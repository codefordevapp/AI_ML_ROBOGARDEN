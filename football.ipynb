{
 "cells": [
  {
   "cell_type": "markdown",
   "id": "fb9105ae-0aa0-4620-b3ea-4ad529291936",
   "metadata": {},
   "source": [
    "## FOOTBALL"
   ]
  },
  {
   "cell_type": "markdown",
   "id": "b5352cc2-3b7d-41c6-836c-5fcebc2735bb",
   "metadata": {},
   "source": [
    "## 1-Reading the Dataset"
   ]
  },
  {
   "cell_type": "markdown",
   "id": "7235808d-1448-491a-9dff-201aefd2e640",
   "metadata": {},
   "source": [
    "#### Read the dataset into the Pandas DataFrame"
   ]
  },
  {
   "cell_type": "code",
   "execution_count": 4,
   "id": "86214dec-f3df-4f84-b4e8-0ce83a2172ee",
   "metadata": {},
   "outputs": [
    {
     "data": {
      "text/html": [
       "<div>\n",
       "<style scoped>\n",
       "    .dataframe tbody tr th:only-of-type {\n",
       "        vertical-align: middle;\n",
       "    }\n",
       "\n",
       "    .dataframe tbody tr th {\n",
       "        vertical-align: top;\n",
       "    }\n",
       "\n",
       "    .dataframe thead th {\n",
       "        text-align: right;\n",
       "    }\n",
       "</style>\n",
       "<table border=\"1\" class=\"dataframe\">\n",
       "  <thead>\n",
       "    <tr style=\"text-align: right;\">\n",
       "      <th></th>\n",
       "      <th>date</th>\n",
       "      <th>home_team</th>\n",
       "      <th>away_team</th>\n",
       "      <th>home_score</th>\n",
       "      <th>away_score</th>\n",
       "      <th>tournament</th>\n",
       "      <th>city</th>\n",
       "      <th>country</th>\n",
       "      <th>neutral</th>\n",
       "    </tr>\n",
       "  </thead>\n",
       "  <tbody>\n",
       "    <tr>\n",
       "      <th>0</th>\n",
       "      <td>1872-11-30</td>\n",
       "      <td>Scotland</td>\n",
       "      <td>England</td>\n",
       "      <td>0</td>\n",
       "      <td>0</td>\n",
       "      <td>Friendly</td>\n",
       "      <td>Glasgow</td>\n",
       "      <td>Scotland</td>\n",
       "      <td>False</td>\n",
       "    </tr>\n",
       "    <tr>\n",
       "      <th>1</th>\n",
       "      <td>1873-03-08</td>\n",
       "      <td>England</td>\n",
       "      <td>Scotland</td>\n",
       "      <td>4</td>\n",
       "      <td>2</td>\n",
       "      <td>Friendly</td>\n",
       "      <td>London</td>\n",
       "      <td>England</td>\n",
       "      <td>False</td>\n",
       "    </tr>\n",
       "    <tr>\n",
       "      <th>2</th>\n",
       "      <td>1874-03-07</td>\n",
       "      <td>Scotland</td>\n",
       "      <td>England</td>\n",
       "      <td>2</td>\n",
       "      <td>1</td>\n",
       "      <td>Friendly</td>\n",
       "      <td>Glasgow</td>\n",
       "      <td>Scotland</td>\n",
       "      <td>False</td>\n",
       "    </tr>\n",
       "    <tr>\n",
       "      <th>3</th>\n",
       "      <td>1875-03-06</td>\n",
       "      <td>England</td>\n",
       "      <td>Scotland</td>\n",
       "      <td>2</td>\n",
       "      <td>2</td>\n",
       "      <td>Friendly</td>\n",
       "      <td>London</td>\n",
       "      <td>England</td>\n",
       "      <td>False</td>\n",
       "    </tr>\n",
       "    <tr>\n",
       "      <th>4</th>\n",
       "      <td>1876-03-04</td>\n",
       "      <td>Scotland</td>\n",
       "      <td>England</td>\n",
       "      <td>3</td>\n",
       "      <td>0</td>\n",
       "      <td>Friendly</td>\n",
       "      <td>Glasgow</td>\n",
       "      <td>Scotland</td>\n",
       "      <td>False</td>\n",
       "    </tr>\n",
       "  </tbody>\n",
       "</table>\n",
       "</div>"
      ],
      "text/plain": [
       "         date home_team away_team  home_score  away_score tournament     city  \\\n",
       "0  1872-11-30  Scotland   England           0           0   Friendly  Glasgow   \n",
       "1  1873-03-08   England  Scotland           4           2   Friendly   London   \n",
       "2  1874-03-07  Scotland   England           2           1   Friendly  Glasgow   \n",
       "3  1875-03-06   England  Scotland           2           2   Friendly   London   \n",
       "4  1876-03-04  Scotland   England           3           0   Friendly  Glasgow   \n",
       "\n",
       "    country  neutral  \n",
       "0  Scotland    False  \n",
       "1   England    False  \n",
       "2  Scotland    False  \n",
       "3   England    False  \n",
       "4  Scotland    False  "
      ]
     },
     "execution_count": 4,
     "metadata": {},
     "output_type": "execute_result"
    }
   ],
   "source": [
    "import pandas as pd\n",
    "football = pd.read_csv(\"results.csv\")\n",
    "football.head(5)"
   ]
  },
  {
   "cell_type": "markdown",
   "id": "e7f807fe-276e-4770-885f-55fc4610b878",
   "metadata": {},
   "source": [
    "#### Does the dataset include any missing values?"
   ]
  },
  {
   "cell_type": "code",
   "execution_count": 6,
   "id": "fb279d71-05cc-4c8d-9599-fc371f96b2ad",
   "metadata": {},
   "outputs": [
    {
     "data": {
      "text/plain": [
       "date          0\n",
       "home_team     0\n",
       "away_team     0\n",
       "home_score    0\n",
       "away_score    0\n",
       "tournament    0\n",
       "city          0\n",
       "country       0\n",
       "neutral       0\n",
       "dtype: int64"
      ]
     },
     "execution_count": 6,
     "metadata": {},
     "output_type": "execute_result"
    }
   ],
   "source": [
    "football.isna().sum()"
   ]
  },
  {
   "cell_type": "markdown",
   "id": "e5f5b588-2a81-49dd-9bed-9fd1e07defc0",
   "metadata": {},
   "source": [
    "###### Dataset doen't contain any missing values"
   ]
  },
  {
   "cell_type": "markdown",
   "id": "549f8961-e6e0-4e07-93cd-32bfff19db42",
   "metadata": {},
   "source": [
    "## 2-Exploring the Dataset"
   ]
  },
  {
   "cell_type": "markdown",
   "id": "51145f62-2b6c-451f-869f-fd363010ab68",
   "metadata": {},
   "source": [
    "#### How many tuples are there in the dataset?"
   ]
  },
  {
   "cell_type": "code",
   "execution_count": 10,
   "id": "a9e287c5-f885-4e06-af06-56cdbdc95fc9",
   "metadata": {},
   "outputs": [
    {
     "name": "stdout",
     "output_type": "stream",
     "text": [
      "Dataset contain 42650 tuples\n"
     ]
    }
   ],
   "source": [
    "print(f\"Dataset contain {football.shape[0]} tuples\")"
   ]
  },
  {
   "cell_type": "markdown",
   "id": "59bed081-5000-499e-99f4-52fa9732f6a2",
   "metadata": {},
   "source": [
    "#### How many tournaments are there in the dataset?"
   ]
  },
  {
   "cell_type": "code",
   "execution_count": 12,
   "id": "c1303d6f-54a8-4ab3-861b-86c584cb5a8a",
   "metadata": {},
   "outputs": [
    {
     "name": "stdout",
     "output_type": "stream",
     "text": [
      "There are 120 in the dataset\n"
     ]
    }
   ],
   "source": [
    "print(f\"There are {len(football['tournament'].unique())} in the dataset\")"
   ]
  },
  {
   "cell_type": "markdown",
   "id": "512125dd-1cef-4fb6-8551-805e262b6f2b",
   "metadata": {},
   "source": [
    "## 3-Convert and Deduce"
   ]
  },
  {
   "cell_type": "markdown",
   "id": "43b887e3-ac3b-4b55-ae2e-8d2cdfbf8881",
   "metadata": {},
   "source": [
    "#### Convert the column date to timestamps"
   ]
  },
  {
   "cell_type": "code",
   "execution_count": 15,
   "id": "eea5e76d-9c9d-4bc4-b8b1-63e367716d87",
   "metadata": {},
   "outputs": [
    {
     "data": {
      "text/plain": [
       "date          object\n",
       "home_team     object\n",
       "away_team     object\n",
       "home_score     int64\n",
       "away_score     int64\n",
       "tournament    object\n",
       "city          object\n",
       "country       object\n",
       "neutral         bool\n",
       "dtype: object"
      ]
     },
     "execution_count": 15,
     "metadata": {},
     "output_type": "execute_result"
    }
   ],
   "source": [
    "#check attributes type\n",
    "football.dtypes"
   ]
  },
  {
   "cell_type": "markdown",
   "id": "cebd6647-5473-460a-89fb-f2921970dd7c",
   "metadata": {},
   "source": [
    "###### Column date type is \"object\", it should be in timestamps"
   ]
  },
  {
   "cell_type": "code",
   "execution_count": 17,
   "id": "def1401f-31cc-4e49-bd3e-3cd272e9c650",
   "metadata": {},
   "outputs": [],
   "source": [
    "#convert column date to timestamps\n",
    "football.date = pd.to_datetime(football.date)"
   ]
  },
  {
   "cell_type": "code",
   "execution_count": 18,
   "id": "60f8c5a2-9b2a-4891-97c8-d97018cec668",
   "metadata": {},
   "outputs": [
    {
     "data": {
      "text/plain": [
       "date          datetime64[ns]\n",
       "home_team             object\n",
       "away_team             object\n",
       "home_score             int64\n",
       "away_score             int64\n",
       "tournament            object\n",
       "city                  object\n",
       "country               object\n",
       "neutral                 bool\n",
       "dtype: object"
      ]
     },
     "execution_count": 18,
     "metadata": {},
     "output_type": "execute_result"
    }
   ],
   "source": [
    "#check football date type\n",
    "football.dtypes"
   ]
  },
  {
   "cell_type": "markdown",
   "id": "ea03f38f-9c57-4c5e-8a2c-fa06315e997a",
   "metadata": {},
   "source": [
    "#### How many matches in the dataset were played in 2018?"
   ]
  },
  {
   "cell_type": "code",
   "execution_count": 20,
   "id": "052ff15f-890b-4c83-81d8-c8a53f512dd5",
   "metadata": {},
   "outputs": [
    {
     "name": "stdout",
     "output_type": "stream",
     "text": [
      "There are 908 matches played in 2018 in the dataset \n"
     ]
    }
   ],
   "source": [
    "print(f\"There are {sum(football.date.dt.year == 2018)} matches played in 2018 in the dataset \")"
   ]
  },
  {
   "cell_type": "markdown",
   "id": "e7529350-e42d-4d14-bacc-ffdccc7b0ec3",
   "metadata": {},
   "source": [
    "## 4-Team Statistics "
   ]
  },
  {
   "cell_type": "markdown",
   "id": "49d6e940-aa4b-45dd-a404-5673d7869610",
   "metadata": {},
   "source": [
    "#### how many times the home team won"
   ]
  },
  {
   "cell_type": "code",
   "execution_count": 23,
   "id": "034f7247-498c-4795-9140-81c1f73b2471",
   "metadata": {},
   "outputs": [
    {
     "name": "stdout",
     "output_type": "stream",
     "text": [
      "Home team won 20739 times\n"
     ]
    }
   ],
   "source": [
    "home_team_won = sum(football.home_score > football.away_score)\n",
    "print(f\"Home team won {home_team_won} times\")"
   ]
  },
  {
   "cell_type": "markdown",
   "id": "f954f46e-326e-4111-8d50-bc8278151290",
   "metadata": {},
   "source": [
    "#### how many times the home team lost"
   ]
  },
  {
   "cell_type": "code",
   "execution_count": 25,
   "id": "9d70cae5-eae3-4775-81be-1aa0485bc495",
   "metadata": {},
   "outputs": [
    {
     "name": "stdout",
     "output_type": "stream",
     "text": [
      "Home team had lost 12074 times\n"
     ]
    }
   ],
   "source": [
    "home_team_lost = sum(football.home_score < football.away_score)\n",
    "print(f\"Home team had lost {home_team_lost} times\")"
   ]
  },
  {
   "cell_type": "markdown",
   "id": "d950249a-8c40-42b1-bc1d-84fbf0eba9e5",
   "metadata": {},
   "source": [
    "#### how many times the home team had a draw"
   ]
  },
  {
   "cell_type": "code",
   "execution_count": 27,
   "id": "13056e95-4eec-4c61-9039-c298a5606447",
   "metadata": {},
   "outputs": [
    {
     "name": "stdout",
     "output_type": "stream",
     "text": [
      "Home team had draw 9837 times\n"
     ]
    }
   ],
   "source": [
    "home_team_draw = sum(football.home_score == football.away_score)\n",
    "print(f\"Home team had draw {home_team_draw} times\")"
   ]
  },
  {
   "cell_type": "markdown",
   "id": "110b1749-bc8c-47a1-8585-99375d865f0c",
   "metadata": {},
   "source": [
    "## 5-Visualization"
   ]
  },
  {
   "cell_type": "markdown",
   "id": "ef9cd73e-5658-422b-90ac-da65c288cc62",
   "metadata": {},
   "source": [
    "#### Plot the home team won, lost, or had a draw in a pie chart"
   ]
  },
  {
   "cell_type": "code",
   "execution_count": 30,
   "id": "3c58ec9d-a593-40b3-900b-7cda93e40b9e",
   "metadata": {},
   "outputs": [
    {
     "data": {
      "image/png": "[encoded data removed]",
      "text/plain": [
       "<Figure size 640x480 with 1 Axes>"
      ]
     },
     "metadata": {},
     "output_type": "display_data"
    }
   ],
   "source": [
    "import matplotlib.pyplot as plt\n",
    "import numpy as np\n",
    "\n",
    "y = np.array([home_team_won, home_team_lost, home_team_draw])\n",
    "pie_labels = [\"home team won\", \"home team lost\", \"home team draw\"]\n",
    "explodes = [0.01, 0.01, 0.01]\n",
    "plt.title(\"HOME TEAM STATISTICS\")\n",
    "plt.pie(y, labels = pie_labels,radius = 0.7, explode = explodes, autopct='%1.1f%%')\n",
    "\n",
    "plt.show()"
   ]
  },
  {
   "cell_type": "markdown",
   "id": "08a28dec-94c7-4e2d-a636-6090c7da6659",
   "metadata": {},
   "source": [
    "#### Plot the neutral column as a pie chart."
   ]
  },
  {
   "cell_type": "code",
   "execution_count": 32,
   "id": "d57d2642-610d-46f9-901c-e119e6195474",
   "metadata": {},
   "outputs": [
    {
     "data": {
      "image/png": "[encoded data removed]",
      "text/plain": [
       "<Figure size 640x480 with 1 Axes>"
      ]
     },
     "metadata": {},
     "output_type": "display_data"
    }
   ],
   "source": [
    "y = np.array([sum(football.neutral == True), sum(football.neutral == False)])\n",
    "plt.pie(y, radius = 0.7, autopct='%1.1f%%', labels = [\"True\", \"False\"])\n",
    "plt.title(\"NEUTRAL  STATISTICS\")\n",
    "plt.show()"
   ]
  },
  {
   "cell_type": "code",
   "execution_count": null,
   "id": "51496a8e-7cea-42f0-b7cf-3dd500165c43",
   "metadata": {},
   "outputs": [],
   "source": []
  },
  {
   "cell_type": "code",
   "execution_count": null,
   "id": "bc87a469-2813-4fac-b16d-42ef69f3d777",
   "metadata": {},
   "outputs": [],
   "source": []
  },
  {
   "cell_type": "code",
   "execution_count": null,
   "id": "76e957b6-d886-438f-bad8-d5a4f093e4ae",
   "metadata": {},
   "outputs": [],
   "source": []
  }
 ],
 "metadata": {
  "kernelspec": {
   "display_name": "Python 3 (ipykernel)",
   "language": "python",
   "name": "python3"
  },
  "language_info": {
   "codemirror_mode": {
    "name": "ipython",
    "version": 3
   },
   "file_extension": ".py",
   "mimetype": "text/x-python",
   "name": "python",
   "nbconvert_exporter": "python",
   "pygments_lexer": "ipython3",
   "version": "3.12.7"
  }
 },
 "nbformat": 4,
 "nbformat_minor": 5
}
