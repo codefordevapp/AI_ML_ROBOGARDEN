{
 "cells": [
  {
   "cell_type": "code",
   "execution_count": 147,
   "metadata": {},
   "outputs": [],
   "source": [
    "import pandas as pd\n",
    "import numpy as np\n",
    "from sklearn.feature_extraction.text import TfidfVectorizer\n",
    "from sklearn.metrics.pairwise import cosine_similarity"
   ]
  },
  {
   "cell_type": "markdown",
   "metadata": {},
   "source": [
    "### Reading dataset"
   ]
  },
  {
   "cell_type": "code",
   "execution_count": 148,
   "metadata": {},
   "outputs": [
    {
     "data": {
      "text/html": [
       "<div>\n",
       "<style scoped>\n",
       "    .dataframe tbody tr th:only-of-type {\n",
       "        vertical-align: middle;\n",
       "    }\n",
       "\n",
       "    .dataframe tbody tr th {\n",
       "        vertical-align: top;\n",
       "    }\n",
       "\n",
       "    .dataframe thead th {\n",
       "        text-align: right;\n",
       "    }\n",
       "</style>\n",
       "<table border=\"1\" class=\"dataframe\">\n",
       "  <thead>\n",
       "    <tr style=\"text-align: right;\">\n",
       "      <th></th>\n",
       "      <th>bookID</th>\n",
       "      <th>title</th>\n",
       "      <th>authors</th>\n",
       "      <th>average_rating</th>\n",
       "      <th>isbn</th>\n",
       "      <th>isbn13</th>\n",
       "      <th>language_code</th>\n",
       "      <th>num_pages</th>\n",
       "      <th>ratings_count</th>\n",
       "      <th>text_reviews_count</th>\n",
       "      <th>publication_date</th>\n",
       "      <th>publisher</th>\n",
       "      <th>Unnamed: 12</th>\n",
       "    </tr>\n",
       "  </thead>\n",
       "  <tbody>\n",
       "    <tr>\n",
       "      <th>0</th>\n",
       "      <td>1</td>\n",
       "      <td>Harry Potter and the Half-Blood Prince (Harry ...</td>\n",
       "      <td>J.K. Rowling/Mary GrandPré</td>\n",
       "      <td>4.57</td>\n",
       "      <td>439785960</td>\n",
       "      <td>9780439785969</td>\n",
       "      <td>eng</td>\n",
       "      <td>652</td>\n",
       "      <td>2095690</td>\n",
       "      <td>27591</td>\n",
       "      <td>9/16/2006</td>\n",
       "      <td>Scholastic Inc.</td>\n",
       "      <td>NaN</td>\n",
       "    </tr>\n",
       "    <tr>\n",
       "      <th>1</th>\n",
       "      <td>2</td>\n",
       "      <td>Harry Potter and the Order of the Phoenix (Har...</td>\n",
       "      <td>J.K. Rowling/Mary GrandPré</td>\n",
       "      <td>4.49</td>\n",
       "      <td>439358078</td>\n",
       "      <td>9780439358071</td>\n",
       "      <td>eng</td>\n",
       "      <td>870</td>\n",
       "      <td>2153167</td>\n",
       "      <td>29221</td>\n",
       "      <td>9/1/2004</td>\n",
       "      <td>Scholastic Inc.</td>\n",
       "      <td>NaN</td>\n",
       "    </tr>\n",
       "    <tr>\n",
       "      <th>2</th>\n",
       "      <td>4</td>\n",
       "      <td>Harry Potter and the Chamber of Secrets (Harry...</td>\n",
       "      <td>J.K. Rowling</td>\n",
       "      <td>4.42</td>\n",
       "      <td>439554896</td>\n",
       "      <td>9780439554893</td>\n",
       "      <td>eng</td>\n",
       "      <td>352</td>\n",
       "      <td>6333</td>\n",
       "      <td>244</td>\n",
       "      <td>11/1/2003</td>\n",
       "      <td>Scholastic</td>\n",
       "      <td>NaN</td>\n",
       "    </tr>\n",
       "    <tr>\n",
       "      <th>3</th>\n",
       "      <td>5</td>\n",
       "      <td>Harry Potter and the Prisoner of Azkaban (Harr...</td>\n",
       "      <td>J.K. Rowling/Mary GrandPré</td>\n",
       "      <td>4.56</td>\n",
       "      <td>043965548X</td>\n",
       "      <td>9780439655484</td>\n",
       "      <td>eng</td>\n",
       "      <td>435</td>\n",
       "      <td>2339585</td>\n",
       "      <td>36325</td>\n",
       "      <td>5/1/2004</td>\n",
       "      <td>Scholastic Inc.</td>\n",
       "      <td>NaN</td>\n",
       "    </tr>\n",
       "    <tr>\n",
       "      <th>4</th>\n",
       "      <td>8</td>\n",
       "      <td>Harry Potter Boxed Set  Books 1-5 (Harry Potte...</td>\n",
       "      <td>J.K. Rowling/Mary GrandPré</td>\n",
       "      <td>4.78</td>\n",
       "      <td>439682584</td>\n",
       "      <td>9780439682589</td>\n",
       "      <td>eng</td>\n",
       "      <td>2690</td>\n",
       "      <td>41428</td>\n",
       "      <td>164</td>\n",
       "      <td>9/13/2004</td>\n",
       "      <td>Scholastic</td>\n",
       "      <td>NaN</td>\n",
       "    </tr>\n",
       "  </tbody>\n",
       "</table>\n",
       "</div>"
      ],
      "text/plain": [
       "   bookID                                              title  \\\n",
       "0       1  Harry Potter and the Half-Blood Prince (Harry ...   \n",
       "1       2  Harry Potter and the Order of the Phoenix (Har...   \n",
       "2       4  Harry Potter and the Chamber of Secrets (Harry...   \n",
       "3       5  Harry Potter and the Prisoner of Azkaban (Harr...   \n",
       "4       8  Harry Potter Boxed Set  Books 1-5 (Harry Potte...   \n",
       "\n",
       "                      authors average_rating        isbn         isbn13  \\\n",
       "0  J.K. Rowling/Mary GrandPré           4.57   439785960  9780439785969   \n",
       "1  J.K. Rowling/Mary GrandPré           4.49   439358078  9780439358071   \n",
       "2                J.K. Rowling           4.42   439554896  9780439554893   \n",
       "3  J.K. Rowling/Mary GrandPré           4.56  043965548X  9780439655484   \n",
       "4  J.K. Rowling/Mary GrandPré           4.78   439682584  9780439682589   \n",
       "\n",
       "  language_code num_pages  ratings_count  text_reviews_count publication_date  \\\n",
       "0           eng       652        2095690               27591        9/16/2006   \n",
       "1           eng       870        2153167               29221         9/1/2004   \n",
       "2           eng       352           6333                 244        11/1/2003   \n",
       "3           eng       435        2339585               36325         5/1/2004   \n",
       "4           eng      2690          41428                 164        9/13/2004   \n",
       "\n",
       "         publisher Unnamed: 12  \n",
       "0  Scholastic Inc.         NaN  \n",
       "1  Scholastic Inc.         NaN  \n",
       "2       Scholastic         NaN  \n",
       "3  Scholastic Inc.         NaN  \n",
       "4       Scholastic         NaN  "
      ]
     },
     "execution_count": 148,
     "metadata": {},
     "output_type": "execute_result"
    }
   ],
   "source": [
    "book_df = pd.read_csv('books.csv')\n",
    "book_df.head()"
   ]
  },
  {
   "cell_type": "markdown",
   "metadata": {},
   "source": [
    "### check the shape of the dataset"
   ]
  },
  {
   "cell_type": "code",
   "execution_count": 149,
   "metadata": {},
   "outputs": [
    {
     "data": {
      "text/plain": [
       "(11127, 13)"
      ]
     },
     "execution_count": 149,
     "metadata": {},
     "output_type": "execute_result"
    }
   ],
   "source": [
    "book_df.shape"
   ]
  },
  {
   "cell_type": "markdown",
   "metadata": {},
   "source": [
    "### check dataype"
   ]
  },
  {
   "cell_type": "code",
   "execution_count": 150,
   "metadata": {},
   "outputs": [
    {
     "name": "stdout",
     "output_type": "stream",
     "text": [
      "<class 'pandas.core.frame.DataFrame'>\n",
      "RangeIndex: 11127 entries, 0 to 11126\n",
      "Data columns (total 13 columns):\n",
      " #   Column              Non-Null Count  Dtype \n",
      "---  ------              --------------  ----- \n",
      " 0   bookID              11127 non-null  int64 \n",
      " 1   title               11127 non-null  object\n",
      " 2   authors             11127 non-null  object\n",
      " 3   average_rating      11127 non-null  object\n",
      " 4   isbn                11127 non-null  object\n",
      " 5   isbn13              11127 non-null  object\n",
      " 6   language_code       11127 non-null  object\n",
      " 7   num_pages           11127 non-null  object\n",
      " 8   ratings_count       11127 non-null  int64 \n",
      " 9   text_reviews_count  11127 non-null  int64 \n",
      " 10  publication_date    11127 non-null  object\n",
      " 11  publisher           11127 non-null  object\n",
      " 12  Unnamed: 12         3 non-null      object\n",
      "dtypes: int64(3), object(10)\n",
      "memory usage: 1.1+ MB\n"
     ]
    }
   ],
   "source": [
    "book_df.info()"
   ]
  },
  {
   "cell_type": "markdown",
   "metadata": {},
   "source": [
    "##### ==>> 'average_rating' need to be converted to float "
   ]
  },
  {
   "cell_type": "markdown",
   "metadata": {},
   "source": [
    "### check 'average_rating' unique values"
   ]
  },
  {
   "cell_type": "code",
   "execution_count": 151,
   "metadata": {},
   "outputs": [
    {
     "data": {
      "text/plain": [
       "array(['4.57', '4.49', '4.42', '4.56', '4.78', '3.74', '4.73', '4.38',\n",
       "       '4.22', '4.21', '3.44', '3.87', '4.07', '3.9', '3.83', '3.86',\n",
       "       '3.91', '3.93', '4.59', '4.5', '4.36', '4.53', '3.84', '3.72', '4',\n",
       "       '3.88', '4.33', '3.45', '3.76', '3.6', '4.06', '4.17', '3.55',\n",
       "       '3.98', '4.13', '3.95', '4.24', '4.34', '3.92', '4.23', '3.75',\n",
       "       '3.94', '3.77', '4.46', '3.68', '3.99', '3.25', '3.89', '3.82',\n",
       "       '3.78', '4.01', '4.35', '4.28', '3.34', '3.67', '3.48', '3.5',\n",
       "       '3.62', '4.27', '3.39', '4.12', '4.08', '4.05', '3.85', '2.99',\n",
       "       '4.19', '3.71', '4.2', '3.65', '3.4', '4.11', '3.42', '4.02',\n",
       "       '3.69', '4.1', '3.66', '4.61', '4.04', '3.97', '4.14', '3.57',\n",
       "       '3.43', '3.22', '3.64', '3.96', '3.8', '3.81', '3.79', '3.23',\n",
       "       '4.15', '4.39', '4.03', '3.73', '3.51', '3.63', '3.09', '3.59',\n",
       "       '4.29', '0', '4.25', '4.26', '3.61', '4.16', '4.55', '4.52',\n",
       "       '3.41', '4.7', '4.18', '3.58', '4.51', '3.15', '3.31', '4.09',\n",
       "       '3.49', '3.56', '4.47', '4.44', '3.7', '4.32', '4.4', '4.31',\n",
       "       '4.43', '2.8', '3.46', '2.83', '4.62', '2.67', '4.45', '4.3', '5',\n",
       "       '3.1', '3.08', '3.27', '3.33', '3', '4.67', '4.63', '3.52', '3.36',\n",
       "       '3.54', '3.17', '4.37', '3.29', '4.64', '3.38', '3.37', '3.16',\n",
       "       '3.53', '2.88', '2.98', '3.35', '3.3', '3.24', '4.41', '4.48',\n",
       "       '4.54', '4.6', '3.32', '3.13', '2', '3.2', '4.58', '2.82', '3.28',\n",
       "       '2.62', '2.92', '3.47', '3.02', '1', '3.14', '3.12', '3.18',\n",
       "       '2.86', '3.26', '3.19', '3.03', '3.07', '3.11', '4.91', '2.55',\n",
       "       '2.81', '4.75',\n",
       "       'one of the founding members of this Tolkien website)/Verlyn Flieger/Turgon (=David E. Smith)',\n",
       "       '3.21', '4.71', '4.8', '2.72', '2.79', '2.96', '2.75', 'Rawles',\n",
       "       '4.86', '4.65', '2.5', '4.82', '4.76', '4.72', '4.69', '1.67',\n",
       "       '3.06', '2.94', '2.89', '3.04', '2.4', '2.61', 'Son & Ferguson',\n",
       "       '2.77', '2.63', '4.88', '4.83', '2.93', '2.33'], dtype=object)"
      ]
     },
     "execution_count": 151,
     "metadata": {},
     "output_type": "execute_result"
    }
   ],
   "source": [
    "book_df['average_rating'].unique()"
   ]
  },
  {
   "cell_type": "markdown",
   "metadata": {},
   "source": [
    "### Correct inconsistent values"
   ]
  },
  {
   "cell_type": "code",
   "execution_count": 152,
   "metadata": {},
   "outputs": [
    {
     "data": {
      "text/html": [
       "<div>\n",
       "<style scoped>\n",
       "    .dataframe tbody tr th:only-of-type {\n",
       "        vertical-align: middle;\n",
       "    }\n",
       "\n",
       "    .dataframe tbody tr th {\n",
       "        vertical-align: top;\n",
       "    }\n",
       "\n",
       "    .dataframe thead th {\n",
       "        text-align: right;\n",
       "    }\n",
       "</style>\n",
       "<table border=\"1\" class=\"dataframe\">\n",
       "  <thead>\n",
       "    <tr style=\"text-align: right;\">\n",
       "      <th></th>\n",
       "      <th>bookID</th>\n",
       "      <th>title</th>\n",
       "      <th>authors</th>\n",
       "      <th>average_rating</th>\n",
       "      <th>isbn</th>\n",
       "      <th>isbn13</th>\n",
       "      <th>language_code</th>\n",
       "      <th>num_pages</th>\n",
       "      <th>ratings_count</th>\n",
       "      <th>text_reviews_count</th>\n",
       "      <th>publication_date</th>\n",
       "      <th>publisher</th>\n",
       "      <th>Unnamed: 12</th>\n",
       "    </tr>\n",
       "  </thead>\n",
       "  <tbody>\n",
       "    <tr>\n",
       "      <th>4702</th>\n",
       "      <td>16914</td>\n",
       "      <td>The Tolkien Fan's Medieval Reader</td>\n",
       "      <td>David E. Smith (Turgon of TheOneRing.net</td>\n",
       "      <td>one of the founding members of this Tolkien we...</td>\n",
       "      <td>3.58</td>\n",
       "      <td>1593600119</td>\n",
       "      <td>9781593600112</td>\n",
       "      <td>eng</td>\n",
       "      <td>400</td>\n",
       "      <td>26</td>\n",
       "      <td>4</td>\n",
       "      <td>4/6/2004</td>\n",
       "      <td>Cold Spring Press</td>\n",
       "    </tr>\n",
       "    <tr>\n",
       "      <th>5877</th>\n",
       "      <td>22128</td>\n",
       "      <td>Patriots (The Coming Collapse)</td>\n",
       "      <td>James Wesley</td>\n",
       "      <td>Rawles</td>\n",
       "      <td>3.63</td>\n",
       "      <td>156384155X</td>\n",
       "      <td>9781563841552</td>\n",
       "      <td>eng</td>\n",
       "      <td>342</td>\n",
       "      <td>38</td>\n",
       "      <td>4</td>\n",
       "      <td>1/15/1999</td>\n",
       "      <td>Huntington House Publishers</td>\n",
       "    </tr>\n",
       "    <tr>\n",
       "      <th>8979</th>\n",
       "      <td>34889</td>\n",
       "      <td>Brown's Star Atlas: Showing All The Bright Sta...</td>\n",
       "      <td>Brown</td>\n",
       "      <td>Son &amp; Ferguson</td>\n",
       "      <td>0</td>\n",
       "      <td>851742718</td>\n",
       "      <td>9780851742717</td>\n",
       "      <td>eng</td>\n",
       "      <td>49</td>\n",
       "      <td>0</td>\n",
       "      <td>0</td>\n",
       "      <td>5/1/1977</td>\n",
       "      <td>Brown Son &amp; Ferguson Ltd.</td>\n",
       "    </tr>\n",
       "  </tbody>\n",
       "</table>\n",
       "</div>"
      ],
      "text/plain": [
       "      bookID                                              title  \\\n",
       "4702   16914                  The Tolkien Fan's Medieval Reader   \n",
       "5877   22128                     Patriots (The Coming Collapse)   \n",
       "8979   34889  Brown's Star Atlas: Showing All The Bright Sta...   \n",
       "\n",
       "                                       authors  \\\n",
       "4702  David E. Smith (Turgon of TheOneRing.net   \n",
       "5877                              James Wesley   \n",
       "8979                                     Brown   \n",
       "\n",
       "                                         average_rating  isbn      isbn13  \\\n",
       "4702  one of the founding members of this Tolkien we...  3.58  1593600119   \n",
       "5877                                             Rawles  3.63  156384155X   \n",
       "8979                                     Son & Ferguson     0   851742718   \n",
       "\n",
       "      language_code num_pages  ratings_count  text_reviews_count  \\\n",
       "4702  9781593600112       eng            400                  26   \n",
       "5877  9781563841552       eng            342                  38   \n",
       "8979  9780851742717       eng             49                   0   \n",
       "\n",
       "     publication_date  publisher                  Unnamed: 12  \n",
       "4702                4   4/6/2004            Cold Spring Press  \n",
       "5877                4  1/15/1999  Huntington House Publishers  \n",
       "8979                0   5/1/1977    Brown Son & Ferguson Ltd.  "
      ]
     },
     "execution_count": 152,
     "metadata": {},
     "output_type": "execute_result"
    }
   ],
   "source": [
    "book_df[book_df['average_rating'].isin(['Rawles', 'Son & Ferguson', 'one of the founding members of this Tolkien website)/Verlyn Flieger/Turgon (=David E. Smith)'])]"
   ]
  },
  {
   "cell_type": "markdown",
   "metadata": {},
   "source": [
    "##### ===> values from 'isbn' need to be shifted left"
   ]
  },
  {
   "cell_type": "code",
   "execution_count": 153,
   "metadata": {},
   "outputs": [
    {
     "data": {
      "text/plain": [
       "Index(['average_rating', 'isbn', 'isbn13', 'language_code', 'num_pages',\n",
       "       'ratings_count', 'text_reviews_count', 'publication_date', 'publisher',\n",
       "       'Unnamed: 12'],\n",
       "      dtype='object')"
      ]
     },
     "execution_count": 153,
     "metadata": {},
     "output_type": "execute_result"
    }
   ],
   "source": [
    "columns = book_df[book_df.index.isin([4702, 8979, 5877])].iloc[:,3:].columns\n",
    "columns"
   ]
  },
  {
   "cell_type": "code",
   "execution_count": 154,
   "metadata": {},
   "outputs": [
    {
     "name": "stderr",
     "output_type": "stream",
     "text": [
      "C:\\Users\\mariah\\AppData\\Local\\Temp\\ipykernel_7376\\2652531134.py:3: FutureWarning: Setting an item of incompatible dtype is deprecated and will raise an error in a future version of pandas. Value 'The Tolkien Fan's Medieval Reader' has dtype incompatible with int64, please explicitly cast to a compatible dtype first.\n",
      "  book_df.iloc[index, i] = book_df.iloc[index, i + 1]\n"
     ]
    },
    {
     "data": {
      "text/html": [
       "<div>\n",
       "<style scoped>\n",
       "    .dataframe tbody tr th:only-of-type {\n",
       "        vertical-align: middle;\n",
       "    }\n",
       "\n",
       "    .dataframe tbody tr th {\n",
       "        vertical-align: top;\n",
       "    }\n",
       "\n",
       "    .dataframe thead th {\n",
       "        text-align: right;\n",
       "    }\n",
       "</style>\n",
       "<table border=\"1\" class=\"dataframe\">\n",
       "  <thead>\n",
       "    <tr style=\"text-align: right;\">\n",
       "      <th></th>\n",
       "      <th>bookID</th>\n",
       "      <th>title</th>\n",
       "      <th>authors</th>\n",
       "      <th>average_rating</th>\n",
       "      <th>isbn</th>\n",
       "      <th>isbn13</th>\n",
       "      <th>language_code</th>\n",
       "      <th>num_pages</th>\n",
       "      <th>ratings_count</th>\n",
       "      <th>text_reviews_count</th>\n",
       "      <th>publication_date</th>\n",
       "      <th>publisher</th>\n",
       "      <th>Unnamed: 12</th>\n",
       "    </tr>\n",
       "  </thead>\n",
       "  <tbody>\n",
       "    <tr>\n",
       "      <th>4702</th>\n",
       "      <td>The Tolkien Fan's Medieval Reader</td>\n",
       "      <td>David E. Smith (Turgon of TheOneRing.net</td>\n",
       "      <td>one of the founding members of this Tolkien we...</td>\n",
       "      <td>3.58</td>\n",
       "      <td>1593600119</td>\n",
       "      <td>9781593600112</td>\n",
       "      <td>eng</td>\n",
       "      <td>400</td>\n",
       "      <td>26</td>\n",
       "      <td>26</td>\n",
       "      <td>4</td>\n",
       "      <td>4/6/2004</td>\n",
       "      <td>Cold Spring Press</td>\n",
       "    </tr>\n",
       "    <tr>\n",
       "      <th>5877</th>\n",
       "      <td>Patriots (The Coming Collapse)</td>\n",
       "      <td>James Wesley</td>\n",
       "      <td>Rawles</td>\n",
       "      <td>3.63</td>\n",
       "      <td>156384155X</td>\n",
       "      <td>9781563841552</td>\n",
       "      <td>eng</td>\n",
       "      <td>342</td>\n",
       "      <td>38</td>\n",
       "      <td>38</td>\n",
       "      <td>4</td>\n",
       "      <td>1/15/1999</td>\n",
       "      <td>Huntington House Publishers</td>\n",
       "    </tr>\n",
       "    <tr>\n",
       "      <th>8979</th>\n",
       "      <td>Brown's Star Atlas: Showing All The Bright Sta...</td>\n",
       "      <td>Brown</td>\n",
       "      <td>Son &amp; Ferguson</td>\n",
       "      <td>0</td>\n",
       "      <td>851742718</td>\n",
       "      <td>9780851742717</td>\n",
       "      <td>eng</td>\n",
       "      <td>49</td>\n",
       "      <td>0</td>\n",
       "      <td>0</td>\n",
       "      <td>0</td>\n",
       "      <td>5/1/1977</td>\n",
       "      <td>Brown Son &amp; Ferguson Ltd.</td>\n",
       "    </tr>\n",
       "  </tbody>\n",
       "</table>\n",
       "</div>"
      ],
      "text/plain": [
       "                                                 bookID  \\\n",
       "4702                  The Tolkien Fan's Medieval Reader   \n",
       "5877                     Patriots (The Coming Collapse)   \n",
       "8979  Brown's Star Atlas: Showing All The Bright Sta...   \n",
       "\n",
       "                                         title  \\\n",
       "4702  David E. Smith (Turgon of TheOneRing.net   \n",
       "5877                              James Wesley   \n",
       "8979                                     Brown   \n",
       "\n",
       "                                                authors average_rating  \\\n",
       "4702  one of the founding members of this Tolkien we...           3.58   \n",
       "5877                                             Rawles           3.63   \n",
       "8979                                     Son & Ferguson              0   \n",
       "\n",
       "            isbn         isbn13 language_code num_pages  ratings_count  \\\n",
       "4702  1593600119  9781593600112           eng       400             26   \n",
       "5877  156384155X  9781563841552           eng       342             38   \n",
       "8979   851742718  9780851742717           eng        49              0   \n",
       "\n",
       "      text_reviews_count publication_date  publisher  \\\n",
       "4702                  26                4   4/6/2004   \n",
       "5877                  38                4  1/15/1999   \n",
       "8979                   0                0   5/1/1977   \n",
       "\n",
       "                      Unnamed: 12  \n",
       "4702            Cold Spring Press  \n",
       "5877  Huntington House Publishers  \n",
       "8979    Brown Son & Ferguson Ltd.  "
      ]
     },
     "execution_count": 154,
     "metadata": {},
     "output_type": "execute_result"
    }
   ],
   "source": [
    "for index in [4702, 8979, 5877]:\n",
    "    for i in range(len(columns)-1):\n",
    "        book_df.iloc[index, i] = book_df.iloc[index, i + 1] \n",
    "\n",
    "book_df[book_df.index.isin([4702, 8979, 5877])]"
   ]
  },
  {
   "cell_type": "markdown",
   "metadata": {},
   "source": [
    "### convert 'average_rating' type from categorical to float"
   ]
  },
  {
   "cell_type": "code",
   "execution_count": 155,
   "metadata": {},
   "outputs": [],
   "source": [
    "book_df['average_rating'] = book_df['average_rating'].astype(float)"
   ]
  },
  {
   "cell_type": "markdown",
   "metadata": {},
   "source": [
    "### Popularity-based Recommender"
   ]
  },
  {
   "cell_type": "code",
   "execution_count": 156,
   "metadata": {},
   "outputs": [
    {
     "data": {
      "text/html": [
       "<div>\n",
       "<style scoped>\n",
       "    .dataframe tbody tr th:only-of-type {\n",
       "        vertical-align: middle;\n",
       "    }\n",
       "\n",
       "    .dataframe tbody tr th {\n",
       "        vertical-align: top;\n",
       "    }\n",
       "\n",
       "    .dataframe thead th {\n",
       "        text-align: right;\n",
       "    }\n",
       "</style>\n",
       "<table border=\"1\" class=\"dataframe\">\n",
       "  <thead>\n",
       "    <tr style=\"text-align: right;\">\n",
       "      <th></th>\n",
       "      <th>title</th>\n",
       "      <th>weighted_rating</th>\n",
       "    </tr>\n",
       "  </thead>\n",
       "  <tbody>\n",
       "    <tr>\n",
       "      <th>3</th>\n",
       "      <td>Harry Potter and the Prisoner of Azkaban (Harr...</td>\n",
       "      <td>4.186825</td>\n",
       "    </tr>\n",
       "    <tr>\n",
       "      <th>0</th>\n",
       "      <td>Harry Potter and the Half-Blood Prince (Harry ...</td>\n",
       "      <td>4.174188</td>\n",
       "    </tr>\n",
       "    <tr>\n",
       "      <th>1</th>\n",
       "      <td>Harry Potter and the Order of the Phoenix (Har...</td>\n",
       "      <td>4.147497</td>\n",
       "    </tr>\n",
       "    <tr>\n",
       "      <th>4416</th>\n",
       "      <td>Harry Potter and the Chamber of Secrets (Harry...</td>\n",
       "      <td>4.127931</td>\n",
       "    </tr>\n",
       "    <tr>\n",
       "      <th>23</th>\n",
       "      <td>The Fellowship of the Ring (The Lord of the Ri...</td>\n",
       "      <td>4.096386</td>\n",
       "    </tr>\n",
       "  </tbody>\n",
       "</table>\n",
       "</div>"
      ],
      "text/plain": [
       "                                                  title  weighted_rating\n",
       "3     Harry Potter and the Prisoner of Azkaban (Harr...         4.186825\n",
       "0     Harry Potter and the Half-Blood Prince (Harry ...         4.174188\n",
       "1     Harry Potter and the Order of the Phoenix (Har...         4.147497\n",
       "4416  Harry Potter and the Chamber of Secrets (Harry...         4.127931\n",
       "23    The Fellowship of the Ring (The Lord of the Ri...         4.096386"
      ]
     },
     "execution_count": 156,
     "metadata": {},
     "output_type": "execute_result"
    }
   ],
   "source": [
    "def imdb(df, ratings_count, average_rating):\n",
    "    #m : minimum vote count to be considered\n",
    "    minimum_vote_count = 0.75*df[ratings_count].max() \n",
    "     #C : mean of all ratings\n",
    "    mean_rating = df[average_rating].mean()\n",
    "\n",
    "    #create weighted rating \n",
    "    df['weighted_rating'] = (df[ratings_count] / (df[ratings_count] + minimum_vote_count)) * df[average_rating] + (minimum_vote_count / (df[ratings_count] + minimum_vote_count)) * mean_rating\n",
    "    return df.sort_values(by='weighted_rating', ascending=False).head()\n",
    "\n",
    "recommendation =  imdb(book_df, 'ratings_count', 'average_rating')\n",
    "recommendation[['title', 'weighted_rating']]"
   ]
  },
  {
   "cell_type": "markdown",
   "metadata": {},
   "source": [
    "### Content-based Recommender"
   ]
  },
  {
   "cell_type": "code",
   "execution_count": 157,
   "metadata": {},
   "outputs": [
    {
     "data": {
      "text/plain": [
       "13                          Bill Bryson's African Diary\n",
       "14    Bryson's Dictionary of Troublesome Words: A Wr...\n",
       "15                               In a Sunburned Country\n",
       "16    I'm a Stranger Here Myself: Notes on Returning...\n",
       "17    The Lost Continent: Travels in Small Town America\n",
       "Name: title, dtype: object"
      ]
     },
     "execution_count": 157,
     "metadata": {},
     "output_type": "execute_result"
    }
   ],
   "source": [
    "def vectorize(df, col):\n",
    "\n",
    "    #instatiate a new vectorizer object\n",
    "    tfidf = TfidfVectorizer(stop_words='english')\n",
    "\n",
    "    #Replace NaN with empty string\n",
    "    df[col] = df[col].fillna('')\n",
    "\n",
    "    #transforms the description of the movies (col) to tfidf matrix\n",
    "    tfidf_matrix = tfidf.fit_transform(df[col])\n",
    "\n",
    "    #calculate distance matrix between items\n",
    "    distance_matrix = cosine_similarity(tfidf_matrix)\n",
    "    return distance_matrix\n",
    "\n",
    "def content_based_recommender(df, title, recomm_title, distance_matrix):\n",
    "\n",
    "    #create series of indices that are indexed by their titles\n",
    "    indices = pd.Series(df.index, index = df[title]).drop_duplicates()\n",
    "    \n",
    "    \n",
    "    #fetch index of the movie itself\n",
    "    id = indices[recomm_title]\n",
    "    \n",
    "    #create a list of tuple: each tuple has an id and a distance to the original movie\n",
    "    if np.ndim(id) > 0:\n",
    "        distances = np.max(distance_matrix[id], axis=0)\n",
    "\n",
    "    distances = list(enumerate(distances))\n",
    "\n",
    "    #sort movies based on distances\n",
    "    distances = sorted(distances, key = lambda x: x[1], reverse=True)\n",
    "\n",
    "    #Get the scores of the 5 most similar movies\n",
    "    #skip the first most similar because it is the movie itself\n",
    "    distances = distances[1:6]\n",
    "\n",
    "    #Get the movie indices\n",
    "    recommendations = [distance[0] for distance in distances]\n",
    "\n",
    "    #return recommendation titles\n",
    "    return df[title].iloc[recommendations]\n",
    "\n",
    "\n",
    "distance_matrix = vectorize(book_df, 'authors')\n",
    "\n",
    "recommendations = content_based_recommender(book_df, 'title', \"A Short History of Nearly Everything\", distance_matrix)\n",
    "recommendations\n",
    "\n",
    "\n",
    "\n"
   ]
  }
 ],
 "metadata": {
  "kernelspec": {
   "display_name": ".venv",
   "language": "python",
   "name": "python3"
  },
  "language_info": {
   "codemirror_mode": {
    "name": "ipython",
    "version": 3
   },
   "file_extension": ".py",
   "mimetype": "text/x-python",
   "name": "python",
   "nbconvert_exporter": "python",
   "pygments_lexer": "ipython3",
   "version": "3.13.1"
  }
 },
 "nbformat": 4,
 "nbformat_minor": 2
}
