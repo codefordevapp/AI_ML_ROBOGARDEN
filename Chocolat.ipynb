{
 "cells": [
  {
   "cell_type": "markdown",
   "id": "11d5e2f1-7a7f-45a5-9941-2aa659eddec4",
   "metadata": {},
   "source": [
    "# CHOCOLAT MINI PROJECT"
   ]
  },
  {
   "cell_type": "markdown",
   "id": "613dcaf8-21a8-4d5b-b084-87336f5a99de",
   "metadata": {},
   "source": [
    "## 1 - Reading Dataset"
   ]
  },
  {
   "cell_type": "markdown",
   "id": "64d1dd36-ad95-4f9e-af15-85ef2c33803a",
   "metadata": {},
   "source": [
    "#### Load flavors of cacao dataset"
   ]
  },
  {
   "cell_type": "code",
   "execution_count": 4,
   "id": "e4d90270-6e0d-403c-91cc-5af4e8a3c208",
   "metadata": {},
   "outputs": [],
   "source": [
    "import pandas as pd\n",
    "cacao_data = pd.read_csv('flavors_of_cacao.csv')\n",
    "cacao_df = pd.DataFrame(cacao_data)"
   ]
  },
  {
   "cell_type": "markdown",
   "id": "b41a4b2b-e543-4fbd-abf2-be11db125b9b",
   "metadata": {},
   "source": [
    "#### Checking for missing values"
   ]
  },
  {
   "cell_type": "code",
   "execution_count": 6,
   "id": "ef1772f1-ba88-481e-89eb-24376bdb5148",
   "metadata": {},
   "outputs": [
    {
     "data": {
      "text/plain": [
       "Company \\n(Maker-if known)           0\n",
       "Specific Bean Origin\\nor Bar Name    0\n",
       "REF                                  0\n",
       "Review\\nDate                         0\n",
       "Cocoa\\nPercent                       0\n",
       "Company\\nLocation                    0\n",
       "Rating                               0\n",
       "Bean\\nType                           1\n",
       "Broad Bean\\nOrigin                   1\n",
       "dtype: int64"
      ]
     },
     "execution_count": 6,
     "metadata": {},
     "output_type": "execute_result"
    }
   ],
   "source": [
    "cacao_df.isna().sum()"
   ]
  },
  {
   "cell_type": "markdown",
   "id": "808b2bfa-7af8-4324-bb95-4191d1304c64",
   "metadata": {},
   "source": [
    "##### There is 1 missing value in \"Bean Type\" column and 1 missing value in \"Broad Bean origin\" column."
   ]
  },
  {
   "cell_type": "markdown",
   "id": "de43964c-b0a6-4592-9532-7142194b6277",
   "metadata": {},
   "source": [
    "#### Deleting all missing value entries"
   ]
  },
  {
   "cell_type": "code",
   "execution_count": 9,
   "id": "cb5b7623-2e79-4d40-976c-ec828fdffc12",
   "metadata": {},
   "outputs": [],
   "source": [
    "#dataset without missing values will be stored in new dataframe \"cacao_df1\"\n",
    "cacao_df1 = cacao_df.dropna()"
   ]
  },
  {
   "cell_type": "markdown",
   "id": "8a1e6732-0fc2-42c6-854f-043d02c7ae64",
   "metadata": {},
   "source": []
  },
  {
   "cell_type": "markdown",
   "id": "815d014d-0f8a-4e4c-9f4e-28a408638e4e",
   "metadata": {},
   "source": [
    "## 2 - Exploring the Dataset"
   ]
  },
  {
   "cell_type": "markdown",
   "id": "d9a3ad34-bafb-4e6b-a38a-bca4b533c65e",
   "metadata": {},
   "source": [
    "#### Number of tuples in dataset"
   ]
  },
  {
   "cell_type": "code",
   "execution_count": 13,
   "id": "1fc68403-7e10-4349-891c-3bbafe86331b",
   "metadata": {},
   "outputs": [
    {
     "data": {
      "text/plain": [
       "(1793, 9)"
      ]
     },
     "execution_count": 13,
     "metadata": {},
     "output_type": "execute_result"
    }
   ],
   "source": [
    "cacao_df1.shape"
   ]
  },
  {
   "cell_type": "markdown",
   "id": "766eb32f-83b3-4115-8ca7-820d2f732680",
   "metadata": {},
   "source": [
    "##### Teere are 1793 tuples in the dataset"
   ]
  },
  {
   "cell_type": "markdown",
   "id": "6fad6d38-fb3a-48a2-b6d8-399ba95db716",
   "metadata": {},
   "source": [
    "#### Number of companies in the dataset"
   ]
  },
  {
   "cell_type": "code",
   "execution_count": 16,
   "id": "cb0a5544-c597-4f3f-b841-910e74fd5221",
   "metadata": {},
   "outputs": [
    {
     "data": {
      "text/plain": [
       "416"
      ]
     },
     "execution_count": 16,
     "metadata": {},
     "output_type": "execute_result"
    }
   ],
   "source": [
    "len(cacao_df1['Company\\xa0\\n(Maker-if known)'].unique())"
   ]
  },
  {
   "cell_type": "markdown",
   "id": "aef3634b-ade8-43d9-afa9-8e59978e48a4",
   "metadata": {},
   "source": [
    "##### There are 416 companies in the dataset"
   ]
  },
  {
   "cell_type": "markdown",
   "id": "1af14b45-0e66-4dbe-9889-d74e2b31f419",
   "metadata": {},
   "source": [
    "#### Number of review made in 2013"
   ]
  },
  {
   "cell_type": "code",
   "execution_count": 19,
   "id": "eb00d090-38fb-48ce-8499-8e03462006f8",
   "metadata": {},
   "outputs": [
    {
     "data": {
      "text/plain": [
       "184"
      ]
     },
     "execution_count": 19,
     "metadata": {},
     "output_type": "execute_result"
    }
   ],
   "source": [
    "sum(cacao_df1['Review\\nDate'] == 2013)"
   ]
  },
  {
   "cell_type": "markdown",
   "id": "e44ab6a6-54bd-4ffa-8a0e-cc30e5925db9",
   "metadata": {},
   "source": [
    "##### There are 184 reviews made in 2013."
   ]
  },
  {
   "cell_type": "markdown",
   "id": "69257e4b-6065-49c2-b997-47ba57b4ffd5",
   "metadata": {},
   "source": [
    "#### Missing value in Bean Type in the original dataset"
   ]
  },
  {
   "cell_type": "code",
   "execution_count": 22,
   "id": "e138b081-c089-44bb-ad55-0679e4277b84",
   "metadata": {},
   "outputs": [
    {
     "data": {
      "text/plain": [
       "1"
      ]
     },
     "execution_count": 22,
     "metadata": {},
     "output_type": "execute_result"
    }
   ],
   "source": [
    "cacao_df['Bean\\nType'].isna().sum()"
   ]
  },
  {
   "cell_type": "markdown",
   "id": "33cb828a-31c7-4782-860f-7e5c7e7dfda0",
   "metadata": {},
   "source": [
    "#### Missing value in Bean Type after dropping"
   ]
  },
  {
   "cell_type": "code",
   "execution_count": 24,
   "id": "8326b2d1-a599-40f3-bce9-9d458d04dbdd",
   "metadata": {},
   "outputs": [
    {
     "data": {
      "text/plain": [
       "0"
      ]
     },
     "execution_count": 24,
     "metadata": {},
     "output_type": "execute_result"
    }
   ],
   "source": [
    "cacao_df1['Bean\\nType'].isna().sum()"
   ]
  },
  {
   "cell_type": "markdown",
   "id": "d8796bc7-5ecd-4984-9b24-3738153e5d43",
   "metadata": {},
   "source": []
  },
  {
   "cell_type": "markdown",
   "id": "6b13025e-5e3f-4b37-9f09-c6cfc88c317f",
   "metadata": {},
   "source": [
    "## 3 - Visualization"
   ]
  },
  {
   "cell_type": "markdown",
   "id": "c7ec6c53-5f5b-4e9b-88f0-2577222fbdb3",
   "metadata": {},
   "source": [
    "#### Histogram of \"Rating column\""
   ]
  },
  {
   "cell_type": "code",
   "execution_count": 28,
   "id": "27d4ac53-d8aa-4385-b30a-ca4fa1ec1dd9",
   "metadata": {},
   "outputs": [
    {
     "data": {
      "image/png": "[encoded data removed]",
      "text/plain": [
       "<Figure size 640x480 with 1 Axes>"
      ]
     },
     "metadata": {},
     "output_type": "display_data"
    }
   ],
   "source": [
    "import matplotlib.pyplot as plt\n",
    "\n",
    "plt.hist(cacao_df1['Rating'], label = 'Rating', color = 'b', histtype = 'step')\n",
    "plt.xlabel('Rating')\n",
    "plt.ylabel('frequency_count')\n",
    "plt.legend(loc = 'upper right')\n",
    "plt.show()"
   ]
  },
  {
   "cell_type": "markdown",
   "id": "7593e88f-030a-4e88-b6a5-ea6d5e9660c3",
   "metadata": {},
   "source": [
    "##### The \"Rating\" is slightly skewed left : \n",
    "######  * few \"Rating\" in the left half range [0, 2.5]\n",
    "######  * majority of \"Rating\" lies in [2.5, 3.75]\n",
    "##### Very few chocolat have the top \"Rating\" in range [4.5, 5]"
   ]
  },
  {
   "cell_type": "markdown",
   "id": "7eed0002-1fd6-407b-969d-e82076e6d29d",
   "metadata": {},
   "source": [
    "#### Convert the Column Percent from string to float"
   ]
  },
  {
   "cell_type": "code",
   "execution_count": 31,
   "id": "06be19e1-e92f-422e-8303-9bf9e63a8309",
   "metadata": {},
   "outputs": [
    {
     "name": "stderr",
     "output_type": "stream",
     "text": [
      "C:\\Users\\DELL\\AppData\\Local\\Temp\\ipykernel_6864\\464420617.py:1: SettingWithCopyWarning: \n",
      "A value is trying to be set on a copy of a slice from a DataFrame.\n",
      "Try using .loc[row_indexer,col_indexer] = value instead\n",
      "\n",
      "See the caveats in the documentation: https://pandas.pydata.org/pandas-docs/stable/user_guide/indexing.html#returning-a-view-versus-a-copy\n",
      "  cacao_df1['Cocoa\\nPercent'] = cacao_df1['Cocoa\\nPercent'].str[:-1].astype(float)\n"
     ]
    }
   ],
   "source": [
    "cacao_df1['Cocoa\\nPercent'] = cacao_df1['Cocoa\\nPercent'].str[:-1].astype(float)"
   ]
  },
  {
   "cell_type": "code",
   "execution_count": 32,
   "id": "7d514f19-ebcd-492c-83f9-2b42e79ecfa7",
   "metadata": {},
   "outputs": [
    {
     "data": {
      "text/plain": [
       "dtype('float64')"
      ]
     },
     "execution_count": 32,
     "metadata": {},
     "output_type": "execute_result"
    }
   ],
   "source": [
    "cacao_df1['Cocoa\\nPercent'].dtypes"
   ]
  },
  {
   "cell_type": "markdown",
   "id": "ed603ac2-b2a6-4825-8d6d-6768b990874e",
   "metadata": {},
   "source": [
    "#### Plot the converted numerical Cocoa Percent values against the Rating values"
   ]
  },
  {
   "cell_type": "code",
   "execution_count": 34,
   "id": "7977478f-c54b-4eb1-ba2e-638e27aec186",
   "metadata": {},
   "outputs": [
    {
     "data": {
      "image/png": "[encoded data removed]",
      "text/plain": [
       "<Figure size 640x480 with 1 Axes>"
      ]
     },
     "metadata": {},
     "output_type": "display_data"
    }
   ],
   "source": [
    "import numpy as np\n",
    "y = cacao_df1['Cocoa\\nPercent']\n",
    "x = cacao_df1['Rating'] \n",
    "plt.scatter(x, y, label = 'Cocoa_Percent vs Chocolat Rating', color = 'c', alpha = 0.05)\n",
    "plt.xlabel('Chocolat_Rating')\n",
    "plt.ylabel('Cocoa_Percent')\n",
    "plt.legend(loc = 'upper right')\n",
    "plt.show()"
   ]
  },
  {
   "cell_type": "markdown",
   "id": "6dabaf98-d06a-4655-b8ba-12b1e15361c9",
   "metadata": {},
   "source": [
    "##### There are few cocoa in a bar correspond to higher rating : around 70% of cocoa"
   ]
  },
  {
   "cell_type": "markdown",
   "id": "23895af8-2196-431b-a0ee-73a2f30c0549",
   "metadata": {},
   "source": []
  },
  {
   "cell_type": "markdown",
   "id": "49d464ac-5b0c-4119-86d0-3bd8badff0f6",
   "metadata": {},
   "source": [
    "## 4- Normalization"
   ]
  },
  {
   "cell_type": "markdown",
   "id": "02c1ec06-0b56-4848-b5b5-0c2f249cdf41",
   "metadata": {},
   "source": [
    "#### Normalize the Rating Column and print the results"
   ]
  },
  {
   "cell_type": "code",
   "execution_count": 39,
   "id": "4ddebec3-74f4-428a-a97a-b67824dd8276",
   "metadata": {},
   "outputs": [
    {
     "name": "stderr",
     "output_type": "stream",
     "text": [
      "C:\\Users\\DELL\\AppData\\Local\\Temp\\ipykernel_6864\\1901219348.py:3: SettingWithCopyWarning: \n",
      "A value is trying to be set on a copy of a slice from a DataFrame.\n",
      "Try using .loc[row_indexer,col_indexer] = value instead\n",
      "\n",
      "See the caveats in the documentation: https://pandas.pydata.org/pandas-docs/stable/user_guide/indexing.html#returning-a-view-versus-a-copy\n",
      "  cacao_df1['Rating'] = (cacao_df1['Rating'] - mini)/(maxi - mini)\n"
     ]
    },
    {
     "data": {
      "text/plain": [
       "0       0.6875\n",
       "1       0.4375\n",
       "2       0.5000\n",
       "3       0.6250\n",
       "4       0.6250\n",
       "         ...  \n",
       "1790    0.6875\n",
       "1791    0.5000\n",
       "1792    0.6250\n",
       "1793    0.5625\n",
       "1794    0.5000\n",
       "Name: Rating, Length: 1793, dtype: float64"
      ]
     },
     "execution_count": 39,
     "metadata": {},
     "output_type": "execute_result"
    }
   ],
   "source": [
    "mini = min(cacao_df1['Rating'])\n",
    "maxi = max(cacao_df1['Rating'])\n",
    "cacao_df1['Rating'] = (cacao_df1['Rating'] - mini)/(maxi - mini)\n",
    "cacao_df1['Rating']"
   ]
  },
  {
   "cell_type": "code",
   "execution_count": null,
   "id": "4003b3ab-60e7-4253-bc83-d1c9b20656ff",
   "metadata": {},
   "outputs": [],
   "source": []
  },
  {
   "cell_type": "markdown",
   "id": "409f4753-056d-44c2-8903-5e7d147400e9",
   "metadata": {},
   "source": [
    "## 5 - List of companies ordered by their average score (averaged over each company’s reviews)"
   ]
  },
  {
   "cell_type": "markdown",
   "id": "fc90225b-0099-4c0f-b98c-fffb287e3aca",
   "metadata": {},
   "source": [
    "#### Companies with its normalized rating average "
   ]
  },
  {
   "cell_type": "code",
   "execution_count": 42,
   "id": "d0875eeb-0d97-46c7-823b-31a02183f554",
   "metadata": {},
   "outputs": [
    {
     "data": {
      "text/plain": [
       "Company \\n(Maker-if known)\n",
       "A. Morin                  0.5951\n",
       "AMMA                      0.6250\n",
       "Acalli                    0.6875\n",
       "Adi                       0.5625\n",
       "Aequare (Gianduja)        0.4688\n",
       "                           ...  \n",
       "hello cocoa               0.5312\n",
       "hexx                      0.5125\n",
       "iQ Chocolate              0.4688\n",
       "organicfair               0.4625\n",
       "twenty-four blackbirds    0.5104\n",
       "Name: Rating, Length: 416, dtype: float64"
      ]
     },
     "execution_count": 42,
     "metadata": {},
     "output_type": "execute_result"
    }
   ],
   "source": [
    "company_average_rate = cacao_df1.groupby('Company\\xa0\\n(Maker-if known)')['Rating'].mean().round(4)\n",
    "company_average_rate"
   ]
  },
  {
   "cell_type": "markdown",
   "id": "4cff0a2b-23d1-478d-bb61-e4eb83997669",
   "metadata": {},
   "source": [
    "#### List of couples (company, rating) and print"
   ]
  },
  {
   "cell_type": "code",
   "execution_count": 44,
   "id": "5d389d7a-a71b-4ef6-b579-78381f288134",
   "metadata": {},
   "outputs": [
    {
     "data": {
      "text/plain": [
       "[('A. Morin', 0.5951),\n",
       " ('AMMA', 0.625),\n",
       " ('Acalli', 0.6875),\n",
       " ('Adi', 0.5625),\n",
       " ('Aequare (Gianduja)', 0.4688),\n",
       " ('Ah Cacao', 0.5),\n",
       " (\"Akesson's (Pralus)\", 0.5208),\n",
       " ('Alain Ducasse', 0.425),\n",
       " ('Alexandre', 0.625),\n",
       " ('Altus aka Cao Artisan', 0.4625),\n",
       " ('Amano', 0.6042),\n",
       " ('Amatller (Simon Coll)', 0.4688),\n",
       " ('Amazona', 0.5938),\n",
       " ('Ambrosia', 0.5625),\n",
       " ('Amedei', 0.7115),\n",
       " ('Anahata', 0.5),\n",
       " ('Animas', 0.625),\n",
       " ('Ara', 0.4531),\n",
       " ('Arete', 0.6335),\n",
       " ('Artisan du Chocolat', 0.5195),\n",
       " ('Artisan du Chocolat (Casa Luker)', 0.4375),\n",
       " ('Askinosie', 0.6042),\n",
       " ('Bahen & Co.', 0.4875),\n",
       " ('Bakau', 0.5312),\n",
       " ('Bar Au Chocolat', 0.65),\n",
       " (\"Baravelli's\", 0.4375),\n",
       " ('Batch', 0.625),\n",
       " ('Beau Cacao', 0.5312),\n",
       " ('Beehive', 0.4375),\n",
       " ('Belcolade', 0.4844),\n",
       " ('Bellflower', 0.6042),\n",
       " ('Belyzium', 0.5208),\n",
       " ('Benoit Nihant', 0.6771),\n",
       " ('Bernachon', 0.4375),\n",
       " ('Beschle (Felchlin)', 0.5938),\n",
       " ('Bisou', 0.4219),\n",
       " ('Bittersweet Origins', 0.567),\n",
       " ('Black Mountain', 0.4583),\n",
       " ('Black River (A. Morin)', 0.4375),\n",
       " ('Blanxart', 0.5312),\n",
       " ('Blue Bandana', 0.5833),\n",
       " ('Bonnat', 0.6088),\n",
       " ('Bouga Cacao (Tulicorp)', 0.3438),\n",
       " ('Bowler Man', 0.4375),\n",
       " (\"Brasstown aka It's Chocolate\", 0.6389),\n",
       " ('Brazen', 0.5417),\n",
       " ('Breeze Mill', 0.5),\n",
       " ('Bright', 0.5469),\n",
       " ('Britarev', 0.5625),\n",
       " ('Bronx Grrl Chocolate', 0.4375),\n",
       " ('Burnt Fork Bend', 0.5375),\n",
       " ('C-Amaro', 0.4732),\n",
       " ('Cacao Arabuco', 0.375),\n",
       " ('Cacao Atlanta', 0.375),\n",
       " ('Cacao Barry', 0.425),\n",
       " ('Cacao Hunters', 0.6161),\n",
       " ('Cacao Market', 0.625),\n",
       " ('Cacao Prieto', 0.6094),\n",
       " ('Cacao Sampaka', 0.6667),\n",
       " ('Cacao Store', 0.5625),\n",
       " ('Cacao de Origen', 0.5729),\n",
       " ('Cacao de Origin', 0.5625),\n",
       " ('Cacaosuyo (Theobroma Inversiones)', 0.5625),\n",
       " ('Cacaoyere (Ecuatoriana)', 0.4375),\n",
       " ('Callebaut', 0.2188),\n",
       " ('Cao', 0.475),\n",
       " ('Caoni (Tulicorp)', 0.4583),\n",
       " ('Captain Pembleton', 0.6562),\n",
       " ('Caribeans', 0.55),\n",
       " ('Carlotta Chocolat', 0.575),\n",
       " ('Castronovo', 0.567),\n",
       " ('Cello', 0.4375),\n",
       " ('Cemoi', 0.4375),\n",
       " ('Chaleur B', 0.4375),\n",
       " ('Charm School', 0.5625),\n",
       " ('Chchukululu (Tulicorp)', 0.4688),\n",
       " ('Chequessett', 0.625),\n",
       " ('Chloe Chocolat', 0.625),\n",
       " ('Chocablog', 0.5625),\n",
       " ('Choco Del Sol', 0.5312),\n",
       " ('Choco Dong', 0.5312),\n",
       " ('ChocoReko', 0.5),\n",
       " (\"Chocola'te\", 0.6875),\n",
       " ('Chocolarder', 0.3958),\n",
       " ('Chocolate Alchemist-Philly', 0.375),\n",
       " ('Chocolate Con Amor', 0.4732),\n",
       " ('Chocolate Conspiracy', 0.4375),\n",
       " ('Chocolate Makers', 0.625),\n",
       " ('Chocolate Tree, The', 0.5729),\n",
       " ('Chocolats Privilege', 0.375),\n",
       " ('Chocosol', 0.5625),\n",
       " ('Chocovic', 0.5234),\n",
       " ('Chocovivo', 0.375),\n",
       " ('Choklat', 0.4625),\n",
       " ('Chokolat Elot (Girard)', 0.4375),\n",
       " ('Choocsol', 0.5625),\n",
       " ('Christopher Morel (Felchlin)', 0.6875),\n",
       " ('Chuao Chocolatier', 0.5),\n",
       " ('Chuao Chocolatier (Pralus)', 0.4375),\n",
       " ('Claudio Corallo', 0.4844),\n",
       " ('Cloudforest', 0.625),\n",
       " ('Coleman & Davis', 0.5),\n",
       " ('Compania de Chocolate (Salgado)', 0.5375),\n",
       " ('Condor', 0.625),\n",
       " ('Confluence', 0.4375),\n",
       " ('Coppeneur', 0.5312),\n",
       " (\"Cote d' Or (Kraft)\", 0.0),\n",
       " ('Cravve', 0.5268),\n",
       " ('Creo', 0.625),\n",
       " ('DAR', 0.5),\n",
       " ('Daintree', 0.5),\n",
       " ('Dalloway', 0.4375),\n",
       " ('Damson', 0.4688),\n",
       " ('Dandelion', 0.5781),\n",
       " ('Danta', 0.6042),\n",
       " ('Dark Forest', 0.5375),\n",
       " ('Davis', 0.4531),\n",
       " ('De Mendes', 0.625),\n",
       " ('De Villiers', 0.4375),\n",
       " ('DeVries', 0.5625),\n",
       " ('Dean and Deluca (Belcolade)', 0.4792),\n",
       " ('Debauve & Gallais (Michel Cluizel)', 0.5938),\n",
       " ('Desbarres', 0.375),\n",
       " ('Dick Taylor', 0.5481),\n",
       " ('Doble & Bignall', 0.5625),\n",
       " ('Dole (Guittard)', 0.6875),\n",
       " ('Dolfin (Belcolade)', 0.3125),\n",
       " ('Domori', 0.6193),\n",
       " ('Dormouse', 0.4219),\n",
       " (\"Duffy's\", 0.625),\n",
       " ('Dulcinea', 0.5625),\n",
       " ('Durand', 0.4375),\n",
       " ('Durci', 0.625),\n",
       " ('ENNA', 0.5625),\n",
       " ('East Van Roasters', 0.625),\n",
       " ('Eau de Rose', 0.5625),\n",
       " ('Eclat (Felchlin)', 0.4375),\n",
       " ('Edelmond', 0.5),\n",
       " ('El Ceibo', 0.5625),\n",
       " ('El Rey', 0.4732),\n",
       " ('Emerald Estate', 0.5),\n",
       " (\"Emily's\", 0.5625),\n",
       " ('Enric Rovira (Claudio Corallo)', 0.5625),\n",
       " ('Erithaj (A. Morin)', 0.5417),\n",
       " ('Escazu', 0.45),\n",
       " (\"Ethel's Artisan (Mars)\", 0.3875),\n",
       " ('Ethereal', 0.6042),\n",
       " ('Fearless (AMMA)', 0.4375),\n",
       " ('Feitoria Cacao', 0.4375),\n",
       " ('Felchlin', 0.5357),\n",
       " ('Finca', 0.4375),\n",
       " ('Forever Cacao', 0.4375),\n",
       " ('Forteza (Cortes)', 0.4375),\n",
       " ('Fossa', 0.5833),\n",
       " ('Franceschi', 0.6562),\n",
       " ('Frederic Blondeel', 0.6),\n",
       " ('French Broad', 0.5438),\n",
       " ('Fresco', 0.5962),\n",
       " ('Friis Holm', 0.625),\n",
       " ('Friis Holm (Bonnat)', 0.5885),\n",
       " ('Fruition', 0.5833),\n",
       " ('Garden Island', 0.375),\n",
       " ('Georgia Ramon', 0.6375),\n",
       " ('Glennmade', 0.5625),\n",
       " ('Goodnow Farms', 0.5208),\n",
       " ('Grand Place', 0.5),\n",
       " (\"Green & Black's (ICAM)\", 0.375),\n",
       " ('Green Bean to Bar', 0.625),\n",
       " ('Grenada Chocolate Co.', 0.4583),\n",
       " ('Guido Castagna', 0.5125),\n",
       " ('Guittard', 0.5426),\n",
       " ('Habitual', 0.4792),\n",
       " ('Hachez', 0.375),\n",
       " ('Hacienda El Castillo', 0.4688),\n",
       " ('Haigh', 0.5),\n",
       " ('Harper Macaw', 0.5781),\n",
       " ('Heilemann', 0.4375),\n",
       " ('Heirloom Cacao Preservation (Brasstown)', 0.5625),\n",
       " ('Heirloom Cacao Preservation (Fruition)', 0.625),\n",
       " ('Heirloom Cacao Preservation (Guittard)', 0.625),\n",
       " ('Heirloom Cacao Preservation (Manoa)', 0.625),\n",
       " ('Heirloom Cacao Preservation (Millcreek)', 0.625),\n",
       " ('Heirloom Cacao Preservation (Mindo)', 0.625),\n",
       " ('Heirloom Cacao Preservation (Zokoko)', 0.7188),\n",
       " ('Hogarth', 0.5156),\n",
       " ('Hoja Verde (Tulicorp)', 0.4625),\n",
       " ('Holy Cacao', 0.5625),\n",
       " ('Honest', 0.375),\n",
       " ('Hotel Chocolat', 0.4583),\n",
       " ('Hotel Chocolat (Coppeneur)', 0.4934),\n",
       " ('Hummingbird', 0.5859),\n",
       " ('Idilio (Felchlin)', 0.6938),\n",
       " ('Indah', 0.375),\n",
       " ('Indaphoria', 0.5),\n",
       " ('Indi', 0.5),\n",
       " ('Isidro', 0.5156),\n",
       " ('Izard', 0.5312),\n",
       " ('Jacque Torres', 0.25),\n",
       " ('Jordis', 0.4375),\n",
       " ('Just Good Chocolate', 0.6667),\n",
       " (\"K'ul\", 0.5938),\n",
       " ('Kah Kow', 0.5625),\n",
       " ('Kakao', 0.5312),\n",
       " ('Kallari (Ecuatoriana)', 0.4688),\n",
       " ('Kaoka (Cemoi)', 0.4375),\n",
       " ('Kerchner', 0.6875),\n",
       " (\"Ki' Xocolatl\", 0.25),\n",
       " ('Kiskadee', 0.5),\n",
       " ('Kto', 0.5089),\n",
       " ('Kyya', 0.4375),\n",
       " (\"L'Amourette\", 0.5312),\n",
       " ('L.A. Burdick (Felchlin)', 0.6181),\n",
       " ('La Chocolaterie Nanairo', 0.4219),\n",
       " ('La Maison du Chocolat (Valrhona)', 0.5812),\n",
       " ('La Oroquidea', 0.375),\n",
       " ('La Pepa de Oro', 0.5625),\n",
       " ('Laia aka Chat-Noir', 0.5188),\n",
       " ('Lajedo do Ouro', 0.625),\n",
       " ('Lake Champlain (Callebaut)', 0.375),\n",
       " ('Letterpress', 0.5833),\n",
       " ('Levy', 0.625),\n",
       " ('Lilla', 0.5),\n",
       " ('Lillie Belle', 0.5833),\n",
       " ('Lindt & Sprungli', 0.5),\n",
       " ('Loiza', 0.375),\n",
       " ('Lonohana', 0.5938),\n",
       " ('Love Bar', 0.25),\n",
       " ('Luker', 0.5156),\n",
       " ('Machu Picchu Trading Co.', 0.2188),\n",
       " ('Madecasse (Cinagra)', 0.6719),\n",
       " ('Madre', 0.5057),\n",
       " ('Maglio', 0.5),\n",
       " ('Majani', 0.25),\n",
       " ('Malagasy (Chocolaterie Robert)', 0.5312),\n",
       " ('Malagos', 0.625),\n",
       " ('Malie Kai (Guittard)', 0.5312),\n",
       " ('Malmo', 0.5),\n",
       " ('Mana', 0.4688),\n",
       " ('Manifesto Cacao', 0.4375),\n",
       " ('Manoa', 0.5804),\n",
       " ('Manufaktura Czekolady', 0.625),\n",
       " ('Map Chocolate', 0.5688),\n",
       " ('Marana', 0.4792),\n",
       " (\"Marigold's Finest\", 0.5625),\n",
       " ('Marou', 0.6125),\n",
       " ('Mars', 0.5469),\n",
       " ('Marsatta', 0.3438),\n",
       " ('Martin Mayer', 0.5),\n",
       " ('Mast Brothers', 0.5404),\n",
       " ('Matale', 0.7031),\n",
       " ('Maverick', 0.5781),\n",
       " ('Mayacama', 0.5),\n",
       " ('Meadowlands', 0.4875),\n",
       " ('Menakao (aka Cinagra)', 0.375),\n",
       " ('Mesocacao', 0.5521),\n",
       " ('Metiisto', 0.5625),\n",
       " ('Metropolitan', 0.625),\n",
       " ('Michel Cluizel', 0.5438),\n",
       " ('Middlebury', 0.5),\n",
       " ('Millcreek Cacao Roasters', 0.5),\n",
       " ('Mindo', 0.4375),\n",
       " ('Minimal', 0.625),\n",
       " ('Mission', 0.6562),\n",
       " ('Mita', 0.375),\n",
       " ('Moho', 0.5),\n",
       " ('Molucca', 0.5),\n",
       " ('Momotombo', 0.4792),\n",
       " ('Monarque', 0.625),\n",
       " ('Monsieur Truffe', 0.5625),\n",
       " ('Montecristi', 0.6042),\n",
       " ('Muchomas (Mesocacao)', 0.625),\n",
       " ('Mutari', 0.4531),\n",
       " ('Nahua', 0.4375),\n",
       " ('Naive', 0.5833),\n",
       " ('Nanea', 0.625),\n",
       " ('Nathan Miller', 0.4219),\n",
       " ('Na�ve', 0.5),\n",
       " ('Neuhaus (Callebaut)', 0.375),\n",
       " ('Nibble', 0.4375),\n",
       " ('Night Owl', 0.5312),\n",
       " ('Noble Bean aka Jerjobo', 0.5208),\n",
       " (\"Noir d' Ebine\", 0.5),\n",
       " ('Nova Monda', 0.5),\n",
       " ('Nuance', 0.5875),\n",
       " ('Nugali', 0.625),\n",
       " ('Oakland Chocolate Co.', 0.375),\n",
       " ('Obolo', 0.6875),\n",
       " ('Ocelot', 0.7188),\n",
       " ('Ocho', 0.5312),\n",
       " ('Ohiyo', 0.4688),\n",
       " ('Oialla by Bojessen (Malmo)', 0.625),\n",
       " ('Olive and Sinclair', 0.4844),\n",
       " ('Olivia', 0.4062),\n",
       " ('Omanhene', 0.4375),\n",
       " ('Omnom', 0.6042),\n",
       " ('Original Beans (Felchlin)', 0.5417),\n",
       " ('Original Hawaiin Chocolate Factory', 0.5),\n",
       " ('Orquidea', 0.5),\n",
       " ('Pacari', 0.5673),\n",
       " ('Palette de Bine', 0.5682),\n",
       " ('Pangea', 0.5),\n",
       " ('Park 75', 0.625),\n",
       " ('Parliament', 0.5781),\n",
       " ('Pascha', 0.4062),\n",
       " ('Patric', 0.6979),\n",
       " ('Paul Young', 0.375),\n",
       " ('Peppalo', 0.5),\n",
       " ('Pierre Marcolini', 0.6161),\n",
       " ('Pinellas', 0.375),\n",
       " ('Pitch Dark', 0.4861),\n",
       " ('Pomm (aka Dead Dog)', 0.4062),\n",
       " ('Potomac', 0.6071),\n",
       " ('Pralus', 0.57),\n",
       " ('Pump Street Bakery', 0.5312),\n",
       " ('Pura Delizia', 0.4375),\n",
       " ('Q Chocolate', 0.5417),\n",
       " ('Quetzalli (Wolter)', 0.4688),\n",
       " ('Raaka', 0.5312),\n",
       " ('Rain Republic', 0.4375),\n",
       " ('Rancho San Jacinto', 0.5),\n",
       " ('Ranger', 0.5208),\n",
       " ('Raoul Boulanger', 0.5625),\n",
       " ('Raw Cocoa', 0.375),\n",
       " ('Republica del Cacao (aka Confecta)', 0.55),\n",
       " ('Ritual', 0.6319),\n",
       " ('Roasting Masters', 0.5625),\n",
       " ('Robert (aka Chocolaterie Robert)', 0.5625),\n",
       " ('Rococo (Grenada Chocolate Co.)', 0.625),\n",
       " ('Rogue', 0.6016),\n",
       " ('Rozsavolgyi', 0.4464),\n",
       " ('S.A.I.D.', 0.5),\n",
       " ('SRSLY', 0.4062),\n",
       " ('Sacred', 0.5),\n",
       " ('Salgado', 0.625),\n",
       " ('Santander (Compania Nacional)', 0.4875),\n",
       " ('Santome', 0.4375),\n",
       " ('Scharffen Berger', 0.5551),\n",
       " ('Seaforth', 0.4375),\n",
       " ('Shark Mountain', 0.5521),\n",
       " (\"Shark's\", 0.3125),\n",
       " ('Shattel', 0.5625),\n",
       " ('Shattell', 0.625),\n",
       " ('Sibu', 0.5938),\n",
       " ('Sibu Sura', 0.375),\n",
       " ('Silvio Bessone', 0.5312),\n",
       " ('Sirene', 0.6023),\n",
       " ('Sjolinds', 0.4688),\n",
       " ('Smooth Chocolator, The', 0.6289),\n",
       " ('Snake & Butterfly', 0.3958),\n",
       " ('Sol Cacao', 0.5625),\n",
       " ('Solkiki', 0.4375),\n",
       " ('Solomons Gold', 0.5625),\n",
       " ('Solstice', 0.5417),\n",
       " ('Soma', 0.644),\n",
       " ('Somerville', 0.5938),\n",
       " ('Soul', 0.5938),\n",
       " ('Spagnvola', 0.5208),\n",
       " ('Spencer', 0.5982),\n",
       " ('Sprungli (Felchlin)', 0.5),\n",
       " ('StRita Supreme', 0.3958),\n",
       " ('Starchild', 0.5),\n",
       " ('Stella (aka Bernrain)', 0.5),\n",
       " ('Stone Grindz', 0.625),\n",
       " ('Sublime Origins', 0.5),\n",
       " ('Summerbird', 0.4375),\n",
       " ('Suruca Chocolate', 0.4688),\n",
       " ('Svenska Kakaobolaget', 0.4375),\n",
       " ('Szanto Tibor', 0.6),\n",
       " ('TCHO', 0.4141),\n",
       " ('Tabal', 0.4375),\n",
       " ('Tablette (aka Vanillabeans)', 0.5156),\n",
       " ('Tan Ban Skrati', 0.5625),\n",
       " ('Taza', 0.5),\n",
       " ('Tejas', 0.5045),\n",
       " ('Terroir', 0.625),\n",
       " ('The Barn', 0.5),\n",
       " ('Theo', 0.4688),\n",
       " ('Theobroma', 0.5625),\n",
       " ('Timo A. Meyer', 0.6875),\n",
       " (\"To'ak (Ecuatoriana)\", 0.5625),\n",
       " ('Tobago Estate (Pralus)', 0.75),\n",
       " ('Tocoti', 0.4792),\n",
       " ('Treehouse', 0.5),\n",
       " ('Tsara (Cinagra)', 0.625),\n",
       " ('Two Ravens', 0.5),\n",
       " ('Un Dimanche A Paris', 0.6875),\n",
       " ('Undone', 0.4688),\n",
       " ('Upchurch', 0.5312),\n",
       " ('Urzi', 0.5625),\n",
       " ('Valrhona', 0.5833),\n",
       " ('Vanleer (Barry Callebaut)', 0.4062),\n",
       " ('Vao Vao (Chocolaterie Robert)', 0.4792),\n",
       " ('Vicuna', 0.5625),\n",
       " ('Videri', 0.6125),\n",
       " ('Vietcacao (A. Morin)', 0.625),\n",
       " ('Vintage Plantations', 0.5),\n",
       " ('Vintage Plantations (Tulicorp)', 0.375),\n",
       " ('Violet Sky', 0.4875),\n",
       " ('Vivra', 0.4167),\n",
       " ('Wellington Chocolate Factory', 0.625),\n",
       " ('Whittakers', 0.375),\n",
       " (\"Wilkie's Organic\", 0.4531),\n",
       " (\"Willie's Cacao\", 0.5547),\n",
       " ('Wm', 0.6042),\n",
       " ('Woodblock', 0.5625),\n",
       " ('Xocolat', 0.5),\n",
       " ('Xocolla', 0.4062),\n",
       " (\"Zak's\", 0.5521),\n",
       " ('Zart Pralinen', 0.5417),\n",
       " ('Zokoko', 0.6375),\n",
       " ('Zotter', 0.5772),\n",
       " ('hello cocoa', 0.5312),\n",
       " ('hexx', 0.5125),\n",
       " ('iQ Chocolate', 0.4688),\n",
       " ('organicfair', 0.4625),\n",
       " ('twenty-four blackbirds', 0.5104)]"
      ]
     },
     "execution_count": 44,
     "metadata": {},
     "output_type": "execute_result"
    }
   ],
   "source": [
    "#using dictionary to get couple company and its rating\n",
    "company_average_rate = dict(company_average_rate)\n",
    "\n",
    "#creating a list from the dictionary above\n",
    "company_average_rate = [(key, value) for key, value in company_average_rate.items()]\n",
    "\n",
    "#printing the list of couples (company, rating)\n",
    "company_average_rate"
   ]
  },
  {
   "cell_type": "markdown",
   "id": "5b272e0c-2660-4034-a042-0f5a14a1882b",
   "metadata": {},
   "source": [
    "#### Sorting companies according to its normalized rating average"
   ]
  },
  {
   "cell_type": "code",
   "execution_count": 46,
   "id": "6c37a358-f8ea-481b-9c89-8b485ee6fe5c",
   "metadata": {},
   "outputs": [
    {
     "data": {
      "text/plain": [
       "[('Tobago Estate (Pralus)', 0.75),\n",
       " ('Heirloom Cacao Preservation (Zokoko)', 0.7188),\n",
       " ('Ocelot', 0.7188),\n",
       " ('Amedei', 0.7115),\n",
       " ('Matale', 0.7031),\n",
       " ('Patric', 0.6979),\n",
       " ('Idilio (Felchlin)', 0.6938),\n",
       " ('Acalli', 0.6875),\n",
       " (\"Chocola'te\", 0.6875),\n",
       " ('Christopher Morel (Felchlin)', 0.6875),\n",
       " ('Dole (Guittard)', 0.6875),\n",
       " ('Kerchner', 0.6875),\n",
       " ('Obolo', 0.6875),\n",
       " ('Timo A. Meyer', 0.6875),\n",
       " ('Un Dimanche A Paris', 0.6875),\n",
       " ('Benoit Nihant', 0.6771),\n",
       " ('Madecasse (Cinagra)', 0.6719),\n",
       " ('Cacao Sampaka', 0.6667),\n",
       " ('Just Good Chocolate', 0.6667),\n",
       " ('Captain Pembleton', 0.6562),\n",
       " ('Franceschi', 0.6562),\n",
       " ('Mission', 0.6562),\n",
       " ('Bar Au Chocolat', 0.65),\n",
       " ('Soma', 0.644),\n",
       " (\"Brasstown aka It's Chocolate\", 0.6389),\n",
       " ('Georgia Ramon', 0.6375),\n",
       " ('Zokoko', 0.6375),\n",
       " ('Arete', 0.6335),\n",
       " ('Ritual', 0.6319),\n",
       " ('Smooth Chocolator, The', 0.6289),\n",
       " ('AMMA', 0.625),\n",
       " ('Alexandre', 0.625),\n",
       " ('Animas', 0.625),\n",
       " ('Batch', 0.625),\n",
       " ('Cacao Market', 0.625),\n",
       " ('Chequessett', 0.625),\n",
       " ('Chloe Chocolat', 0.625),\n",
       " ('Chocolate Makers', 0.625),\n",
       " ('Cloudforest', 0.625),\n",
       " ('Condor', 0.625),\n",
       " ('Creo', 0.625),\n",
       " ('De Mendes', 0.625),\n",
       " (\"Duffy's\", 0.625),\n",
       " ('Durci', 0.625),\n",
       " ('East Van Roasters', 0.625),\n",
       " ('Friis Holm', 0.625),\n",
       " ('Green Bean to Bar', 0.625),\n",
       " ('Heirloom Cacao Preservation (Fruition)', 0.625),\n",
       " ('Heirloom Cacao Preservation (Guittard)', 0.625),\n",
       " ('Heirloom Cacao Preservation (Manoa)', 0.625),\n",
       " ('Heirloom Cacao Preservation (Millcreek)', 0.625),\n",
       " ('Heirloom Cacao Preservation (Mindo)', 0.625),\n",
       " ('Lajedo do Ouro', 0.625),\n",
       " ('Levy', 0.625),\n",
       " ('Malagos', 0.625),\n",
       " ('Manufaktura Czekolady', 0.625),\n",
       " ('Metropolitan', 0.625),\n",
       " ('Minimal', 0.625),\n",
       " ('Monarque', 0.625),\n",
       " ('Muchomas (Mesocacao)', 0.625),\n",
       " ('Nanea', 0.625),\n",
       " ('Nugali', 0.625),\n",
       " ('Oialla by Bojessen (Malmo)', 0.625),\n",
       " ('Park 75', 0.625),\n",
       " ('Rococo (Grenada Chocolate Co.)', 0.625),\n",
       " ('Salgado', 0.625),\n",
       " ('Shattell', 0.625),\n",
       " ('Stone Grindz', 0.625),\n",
       " ('Terroir', 0.625),\n",
       " ('Tsara (Cinagra)', 0.625),\n",
       " ('Vietcacao (A. Morin)', 0.625),\n",
       " ('Wellington Chocolate Factory', 0.625),\n",
       " ('Domori', 0.6193),\n",
       " ('L.A. Burdick (Felchlin)', 0.6181),\n",
       " ('Cacao Hunters', 0.6161),\n",
       " ('Pierre Marcolini', 0.6161),\n",
       " ('Marou', 0.6125),\n",
       " ('Videri', 0.6125),\n",
       " ('Cacao Prieto', 0.6094),\n",
       " ('Bonnat', 0.6088),\n",
       " ('Potomac', 0.6071),\n",
       " ('Amano', 0.6042),\n",
       " ('Askinosie', 0.6042),\n",
       " ('Bellflower', 0.6042),\n",
       " ('Danta', 0.6042),\n",
       " ('Ethereal', 0.6042),\n",
       " ('Montecristi', 0.6042),\n",
       " ('Omnom', 0.6042),\n",
       " ('Wm', 0.6042),\n",
       " ('Sirene', 0.6023),\n",
       " ('Rogue', 0.6016),\n",
       " ('Frederic Blondeel', 0.6),\n",
       " ('Szanto Tibor', 0.6),\n",
       " ('Spencer', 0.5982),\n",
       " ('Fresco', 0.5962),\n",
       " ('A. Morin', 0.5951),\n",
       " ('Amazona', 0.5938),\n",
       " ('Beschle (Felchlin)', 0.5938),\n",
       " ('Debauve & Gallais (Michel Cluizel)', 0.5938),\n",
       " (\"K'ul\", 0.5938),\n",
       " ('Lonohana', 0.5938),\n",
       " ('Sibu', 0.5938),\n",
       " ('Somerville', 0.5938),\n",
       " ('Soul', 0.5938),\n",
       " ('Friis Holm (Bonnat)', 0.5885),\n",
       " ('Nuance', 0.5875),\n",
       " ('Hummingbird', 0.5859),\n",
       " ('Blue Bandana', 0.5833),\n",
       " ('Fossa', 0.5833),\n",
       " ('Fruition', 0.5833),\n",
       " ('Letterpress', 0.5833),\n",
       " ('Lillie Belle', 0.5833),\n",
       " ('Naive', 0.5833),\n",
       " ('Valrhona', 0.5833),\n",
       " ('La Maison du Chocolat (Valrhona)', 0.5812),\n",
       " ('Manoa', 0.5804),\n",
       " ('Dandelion', 0.5781),\n",
       " ('Harper Macaw', 0.5781),\n",
       " ('Maverick', 0.5781),\n",
       " ('Parliament', 0.5781),\n",
       " ('Zotter', 0.5772),\n",
       " ('Carlotta Chocolat', 0.575),\n",
       " ('Cacao de Origen', 0.5729),\n",
       " ('Chocolate Tree, The', 0.5729),\n",
       " ('Pralus', 0.57),\n",
       " ('Map Chocolate', 0.5688),\n",
       " ('Palette de Bine', 0.5682),\n",
       " ('Pacari', 0.5673),\n",
       " ('Bittersweet Origins', 0.567),\n",
       " ('Castronovo', 0.567),\n",
       " ('Adi', 0.5625),\n",
       " ('Ambrosia', 0.5625),\n",
       " ('Britarev', 0.5625),\n",
       " ('Cacao Store', 0.5625),\n",
       " ('Cacao de Origin', 0.5625),\n",
       " ('Cacaosuyo (Theobroma Inversiones)', 0.5625),\n",
       " ('Charm School', 0.5625),\n",
       " ('Chocablog', 0.5625),\n",
       " ('Chocosol', 0.5625),\n",
       " ('Choocsol', 0.5625),\n",
       " ('DeVries', 0.5625),\n",
       " ('Doble & Bignall', 0.5625),\n",
       " ('Dulcinea', 0.5625),\n",
       " ('ENNA', 0.5625),\n",
       " ('Eau de Rose', 0.5625),\n",
       " ('El Ceibo', 0.5625),\n",
       " (\"Emily's\", 0.5625),\n",
       " ('Enric Rovira (Claudio Corallo)', 0.5625),\n",
       " ('Glennmade', 0.5625),\n",
       " ('Heirloom Cacao Preservation (Brasstown)', 0.5625),\n",
       " ('Holy Cacao', 0.5625),\n",
       " ('Kah Kow', 0.5625),\n",
       " ('La Pepa de Oro', 0.5625),\n",
       " (\"Marigold's Finest\", 0.5625),\n",
       " ('Metiisto', 0.5625),\n",
       " ('Monsieur Truffe', 0.5625),\n",
       " ('Raoul Boulanger', 0.5625),\n",
       " ('Roasting Masters', 0.5625),\n",
       " ('Robert (aka Chocolaterie Robert)', 0.5625),\n",
       " ('Shattel', 0.5625),\n",
       " ('Sol Cacao', 0.5625),\n",
       " ('Solomons Gold', 0.5625),\n",
       " ('Tan Ban Skrati', 0.5625),\n",
       " ('Theobroma', 0.5625),\n",
       " (\"To'ak (Ecuatoriana)\", 0.5625),\n",
       " ('Urzi', 0.5625),\n",
       " ('Vicuna', 0.5625),\n",
       " ('Woodblock', 0.5625),\n",
       " ('Scharffen Berger', 0.5551),\n",
       " (\"Willie's Cacao\", 0.5547),\n",
       " ('Mesocacao', 0.5521),\n",
       " ('Shark Mountain', 0.5521),\n",
       " (\"Zak's\", 0.5521),\n",
       " ('Caribeans', 0.55),\n",
       " ('Republica del Cacao (aka Confecta)', 0.55),\n",
       " ('Dick Taylor', 0.5481),\n",
       " ('Bright', 0.5469),\n",
       " ('Mars', 0.5469),\n",
       " ('French Broad', 0.5438),\n",
       " ('Michel Cluizel', 0.5438),\n",
       " ('Guittard', 0.5426),\n",
       " ('Brazen', 0.5417),\n",
       " ('Erithaj (A. Morin)', 0.5417),\n",
       " ('Original Beans (Felchlin)', 0.5417),\n",
       " ('Q Chocolate', 0.5417),\n",
       " ('Solstice', 0.5417),\n",
       " ('Zart Pralinen', 0.5417),\n",
       " ('Mast Brothers', 0.5404),\n",
       " ('Burnt Fork Bend', 0.5375),\n",
       " ('Compania de Chocolate (Salgado)', 0.5375),\n",
       " ('Dark Forest', 0.5375),\n",
       " ('Felchlin', 0.5357),\n",
       " ('Bakau', 0.5312),\n",
       " ('Beau Cacao', 0.5312),\n",
       " ('Blanxart', 0.5312),\n",
       " ('Choco Del Sol', 0.5312),\n",
       " ('Choco Dong', 0.5312),\n",
       " ('Coppeneur', 0.5312),\n",
       " ('Izard', 0.5312),\n",
       " ('Kakao', 0.5312),\n",
       " (\"L'Amourette\", 0.5312),\n",
       " ('Malagasy (Chocolaterie Robert)', 0.5312),\n",
       " ('Malie Kai (Guittard)', 0.5312),\n",
       " ('Night Owl', 0.5312),\n",
       " ('Ocho', 0.5312),\n",
       " ('Pump Street Bakery', 0.5312),\n",
       " ('Raaka', 0.5312),\n",
       " ('Silvio Bessone', 0.5312),\n",
       " ('Upchurch', 0.5312),\n",
       " ('hello cocoa', 0.5312),\n",
       " ('Cravve', 0.5268),\n",
       " ('Chocovic', 0.5234),\n",
       " (\"Akesson's (Pralus)\", 0.5208),\n",
       " ('Belyzium', 0.5208),\n",
       " ('Goodnow Farms', 0.5208),\n",
       " ('Noble Bean aka Jerjobo', 0.5208),\n",
       " ('Ranger', 0.5208),\n",
       " ('Spagnvola', 0.5208),\n",
       " ('Artisan du Chocolat', 0.5195),\n",
       " ('Laia aka Chat-Noir', 0.5188),\n",
       " ('Hogarth', 0.5156),\n",
       " ('Isidro', 0.5156),\n",
       " ('Luker', 0.5156),\n",
       " ('Tablette (aka Vanillabeans)', 0.5156),\n",
       " ('Guido Castagna', 0.5125),\n",
       " ('hexx', 0.5125),\n",
       " ('twenty-four blackbirds', 0.5104),\n",
       " ('Kto', 0.5089),\n",
       " ('Madre', 0.5057),\n",
       " ('Tejas', 0.5045),\n",
       " ('Ah Cacao', 0.5),\n",
       " ('Anahata', 0.5),\n",
       " ('Breeze Mill', 0.5),\n",
       " ('ChocoReko', 0.5),\n",
       " ('Chuao Chocolatier', 0.5),\n",
       " ('Coleman & Davis', 0.5),\n",
       " ('DAR', 0.5),\n",
       " ('Daintree', 0.5),\n",
       " ('Edelmond', 0.5),\n",
       " ('Emerald Estate', 0.5),\n",
       " ('Grand Place', 0.5),\n",
       " ('Haigh', 0.5),\n",
       " ('Indaphoria', 0.5),\n",
       " ('Indi', 0.5),\n",
       " ('Kiskadee', 0.5),\n",
       " ('Lilla', 0.5),\n",
       " ('Lindt & Sprungli', 0.5),\n",
       " ('Maglio', 0.5),\n",
       " ('Malmo', 0.5),\n",
       " ('Martin Mayer', 0.5),\n",
       " ('Mayacama', 0.5),\n",
       " ('Middlebury', 0.5),\n",
       " ('Millcreek Cacao Roasters', 0.5),\n",
       " ('Moho', 0.5),\n",
       " ('Molucca', 0.5),\n",
       " ('Na�ve', 0.5),\n",
       " (\"Noir d' Ebine\", 0.5),\n",
       " ('Nova Monda', 0.5),\n",
       " ('Original Hawaiin Chocolate Factory', 0.5),\n",
       " ('Orquidea', 0.5),\n",
       " ('Pangea', 0.5),\n",
       " ('Peppalo', 0.5),\n",
       " ('Rancho San Jacinto', 0.5),\n",
       " ('S.A.I.D.', 0.5),\n",
       " ('Sacred', 0.5),\n",
       " ('Sprungli (Felchlin)', 0.5),\n",
       " ('Starchild', 0.5),\n",
       " ('Stella (aka Bernrain)', 0.5),\n",
       " ('Sublime Origins', 0.5),\n",
       " ('Taza', 0.5),\n",
       " ('The Barn', 0.5),\n",
       " ('Treehouse', 0.5),\n",
       " ('Two Ravens', 0.5),\n",
       " ('Vintage Plantations', 0.5),\n",
       " ('Xocolat', 0.5),\n",
       " ('Hotel Chocolat (Coppeneur)', 0.4934),\n",
       " ('Bahen & Co.', 0.4875),\n",
       " ('Meadowlands', 0.4875),\n",
       " ('Santander (Compania Nacional)', 0.4875),\n",
       " ('Violet Sky', 0.4875),\n",
       " ('Pitch Dark', 0.4861),\n",
       " ('Belcolade', 0.4844),\n",
       " ('Claudio Corallo', 0.4844),\n",
       " ('Olive and Sinclair', 0.4844),\n",
       " ('Dean and Deluca (Belcolade)', 0.4792),\n",
       " ('Habitual', 0.4792),\n",
       " ('Marana', 0.4792),\n",
       " ('Momotombo', 0.4792),\n",
       " ('Tocoti', 0.4792),\n",
       " ('Vao Vao (Chocolaterie Robert)', 0.4792),\n",
       " ('Cao', 0.475),\n",
       " ('C-Amaro', 0.4732),\n",
       " ('Chocolate Con Amor', 0.4732),\n",
       " ('El Rey', 0.4732),\n",
       " ('Aequare (Gianduja)', 0.4688),\n",
       " ('Amatller (Simon Coll)', 0.4688),\n",
       " ('Chchukululu (Tulicorp)', 0.4688),\n",
       " ('Damson', 0.4688),\n",
       " ('Hacienda El Castillo', 0.4688),\n",
       " ('Kallari (Ecuatoriana)', 0.4688),\n",
       " ('Mana', 0.4688),\n",
       " ('Ohiyo', 0.4688),\n",
       " ('Quetzalli (Wolter)', 0.4688),\n",
       " ('Sjolinds', 0.4688),\n",
       " ('Suruca Chocolate', 0.4688),\n",
       " ('Theo', 0.4688),\n",
       " ('Undone', 0.4688),\n",
       " ('iQ Chocolate', 0.4688),\n",
       " ('Altus aka Cao Artisan', 0.4625),\n",
       " ('Choklat', 0.4625),\n",
       " ('Hoja Verde (Tulicorp)', 0.4625),\n",
       " ('organicfair', 0.4625),\n",
       " ('Black Mountain', 0.4583),\n",
       " ('Caoni (Tulicorp)', 0.4583),\n",
       " ('Grenada Chocolate Co.', 0.4583),\n",
       " ('Hotel Chocolat', 0.4583),\n",
       " ('Ara', 0.4531),\n",
       " ('Davis', 0.4531),\n",
       " ('Mutari', 0.4531),\n",
       " (\"Wilkie's Organic\", 0.4531),\n",
       " ('Escazu', 0.45),\n",
       " ('Rozsavolgyi', 0.4464),\n",
       " ('Artisan du Chocolat (Casa Luker)', 0.4375),\n",
       " (\"Baravelli's\", 0.4375),\n",
       " ('Beehive', 0.4375),\n",
       " ('Bernachon', 0.4375),\n",
       " ('Black River (A. Morin)', 0.4375),\n",
       " ('Bowler Man', 0.4375),\n",
       " ('Bronx Grrl Chocolate', 0.4375),\n",
       " ('Cacaoyere (Ecuatoriana)', 0.4375),\n",
       " ('Cello', 0.4375),\n",
       " ('Cemoi', 0.4375),\n",
       " ('Chaleur B', 0.4375),\n",
       " ('Chocolate Conspiracy', 0.4375),\n",
       " ('Chokolat Elot (Girard)', 0.4375),\n",
       " ('Chuao Chocolatier (Pralus)', 0.4375),\n",
       " ('Confluence', 0.4375),\n",
       " ('Dalloway', 0.4375),\n",
       " ('De Villiers', 0.4375),\n",
       " ('Durand', 0.4375),\n",
       " ('Eclat (Felchlin)', 0.4375),\n",
       " ('Fearless (AMMA)', 0.4375),\n",
       " ('Feitoria Cacao', 0.4375),\n",
       " ('Finca', 0.4375),\n",
       " ('Forever Cacao', 0.4375),\n",
       " ('Forteza (Cortes)', 0.4375),\n",
       " ('Heilemann', 0.4375),\n",
       " ('Jordis', 0.4375),\n",
       " ('Kaoka (Cemoi)', 0.4375),\n",
       " ('Kyya', 0.4375),\n",
       " ('Manifesto Cacao', 0.4375),\n",
       " ('Mindo', 0.4375),\n",
       " ('Nahua', 0.4375),\n",
       " ('Nibble', 0.4375),\n",
       " ('Omanhene', 0.4375),\n",
       " ('Pura Delizia', 0.4375),\n",
       " ('Rain Republic', 0.4375),\n",
       " ('Santome', 0.4375),\n",
       " ('Seaforth', 0.4375),\n",
       " ('Solkiki', 0.4375),\n",
       " ('Summerbird', 0.4375),\n",
       " ('Svenska Kakaobolaget', 0.4375),\n",
       " ('Tabal', 0.4375),\n",
       " ('Alain Ducasse', 0.425),\n",
       " ('Cacao Barry', 0.425),\n",
       " ('Bisou', 0.4219),\n",
       " ('Dormouse', 0.4219),\n",
       " ('La Chocolaterie Nanairo', 0.4219),\n",
       " ('Nathan Miller', 0.4219),\n",
       " ('Vivra', 0.4167),\n",
       " ('TCHO', 0.4141),\n",
       " ('Olivia', 0.4062),\n",
       " ('Pascha', 0.4062),\n",
       " ('Pomm (aka Dead Dog)', 0.4062),\n",
       " ('SRSLY', 0.4062),\n",
       " ('Vanleer (Barry Callebaut)', 0.4062),\n",
       " ('Xocolla', 0.4062),\n",
       " ('Chocolarder', 0.3958),\n",
       " ('Snake & Butterfly', 0.3958),\n",
       " ('StRita Supreme', 0.3958),\n",
       " (\"Ethel's Artisan (Mars)\", 0.3875),\n",
       " ('Cacao Arabuco', 0.375),\n",
       " ('Cacao Atlanta', 0.375),\n",
       " ('Chocolate Alchemist-Philly', 0.375),\n",
       " ('Chocolats Privilege', 0.375),\n",
       " ('Chocovivo', 0.375),\n",
       " ('Desbarres', 0.375),\n",
       " ('Garden Island', 0.375),\n",
       " (\"Green & Black's (ICAM)\", 0.375),\n",
       " ('Hachez', 0.375),\n",
       " ('Honest', 0.375),\n",
       " ('Indah', 0.375),\n",
       " ('La Oroquidea', 0.375),\n",
       " ('Lake Champlain (Callebaut)', 0.375),\n",
       " ('Loiza', 0.375),\n",
       " ('Menakao (aka Cinagra)', 0.375),\n",
       " ('Mita', 0.375),\n",
       " ('Neuhaus (Callebaut)', 0.375),\n",
       " ('Oakland Chocolate Co.', 0.375),\n",
       " ('Paul Young', 0.375),\n",
       " ('Pinellas', 0.375),\n",
       " ('Raw Cocoa', 0.375),\n",
       " ('Sibu Sura', 0.375),\n",
       " ('Vintage Plantations (Tulicorp)', 0.375),\n",
       " ('Whittakers', 0.375),\n",
       " ('Bouga Cacao (Tulicorp)', 0.3438),\n",
       " ('Marsatta', 0.3438),\n",
       " ('Dolfin (Belcolade)', 0.3125),\n",
       " (\"Shark's\", 0.3125),\n",
       " ('Jacque Torres', 0.25),\n",
       " (\"Ki' Xocolatl\", 0.25),\n",
       " ('Love Bar', 0.25),\n",
       " ('Majani', 0.25),\n",
       " ('Callebaut', 0.2188),\n",
       " ('Machu Picchu Trading Co.', 0.2188),\n",
       " (\"Cote d' Or (Kraft)\", 0.0)]"
      ]
     },
     "execution_count": 46,
     "metadata": {},
     "output_type": "execute_result"
    }
   ],
   "source": [
    "#sorting the list in descending order according to their normalized rating average of companies\n",
    "company_average_rate.sort(key = lambda x: x[1], reverse = True)\n",
    "\n",
    "#print the sorted list\n",
    "company_average_rate"
   ]
  },
  {
   "cell_type": "markdown",
   "id": "745a3850-fab2-4543-aa7a-d8170b9348cd",
   "metadata": {},
   "source": [
    "## 6-Encoding the company’s names and locations "
   ]
  },
  {
   "cell_type": "markdown",
   "id": "504eb76e-222c-4198-9168-6f6251009a28",
   "metadata": {},
   "source": [
    "#### Overview of the dataset"
   ]
  },
  {
   "cell_type": "code",
   "execution_count": 49,
   "id": "50e28711-90dc-46a0-ab4f-ceaed1cc40b1",
   "metadata": {},
   "outputs": [
    {
     "data": {
      "text/html": [
       "<div>\n",
       "<style scoped>\n",
       "    .dataframe tbody tr th:only-of-type {\n",
       "        vertical-align: middle;\n",
       "    }\n",
       "\n",
       "    .dataframe tbody tr th {\n",
       "        vertical-align: top;\n",
       "    }\n",
       "\n",
       "    .dataframe thead th {\n",
       "        text-align: right;\n",
       "    }\n",
       "</style>\n",
       "<table border=\"1\" class=\"dataframe\">\n",
       "  <thead>\n",
       "    <tr style=\"text-align: right;\">\n",
       "      <th></th>\n",
       "      <th>Company \\n(Maker-if known)</th>\n",
       "      <th>Specific Bean Origin\\nor Bar Name</th>\n",
       "      <th>REF</th>\n",
       "      <th>Review\\nDate</th>\n",
       "      <th>Cocoa\\nPercent</th>\n",
       "      <th>Company\\nLocation</th>\n",
       "      <th>Rating</th>\n",
       "      <th>Bean\\nType</th>\n",
       "      <th>Broad Bean\\nOrigin</th>\n",
       "    </tr>\n",
       "  </thead>\n",
       "  <tbody>\n",
       "    <tr>\n",
       "      <th>0</th>\n",
       "      <td>A. Morin</td>\n",
       "      <td>Agua Grande</td>\n",
       "      <td>1876</td>\n",
       "      <td>2016</td>\n",
       "      <td>63.0</td>\n",
       "      <td>France</td>\n",
       "      <td>0.6875</td>\n",
       "      <td></td>\n",
       "      <td>Sao Tome</td>\n",
       "    </tr>\n",
       "    <tr>\n",
       "      <th>1</th>\n",
       "      <td>A. Morin</td>\n",
       "      <td>Kpime</td>\n",
       "      <td>1676</td>\n",
       "      <td>2015</td>\n",
       "      <td>70.0</td>\n",
       "      <td>France</td>\n",
       "      <td>0.4375</td>\n",
       "      <td></td>\n",
       "      <td>Togo</td>\n",
       "    </tr>\n",
       "    <tr>\n",
       "      <th>2</th>\n",
       "      <td>A. Morin</td>\n",
       "      <td>Atsane</td>\n",
       "      <td>1676</td>\n",
       "      <td>2015</td>\n",
       "      <td>70.0</td>\n",
       "      <td>France</td>\n",
       "      <td>0.5000</td>\n",
       "      <td></td>\n",
       "      <td>Togo</td>\n",
       "    </tr>\n",
       "    <tr>\n",
       "      <th>3</th>\n",
       "      <td>A. Morin</td>\n",
       "      <td>Akata</td>\n",
       "      <td>1680</td>\n",
       "      <td>2015</td>\n",
       "      <td>70.0</td>\n",
       "      <td>France</td>\n",
       "      <td>0.6250</td>\n",
       "      <td></td>\n",
       "      <td>Togo</td>\n",
       "    </tr>\n",
       "    <tr>\n",
       "      <th>4</th>\n",
       "      <td>A. Morin</td>\n",
       "      <td>Quilla</td>\n",
       "      <td>1704</td>\n",
       "      <td>2015</td>\n",
       "      <td>70.0</td>\n",
       "      <td>France</td>\n",
       "      <td>0.6250</td>\n",
       "      <td></td>\n",
       "      <td>Peru</td>\n",
       "    </tr>\n",
       "  </tbody>\n",
       "</table>\n",
       "</div>"
      ],
      "text/plain": [
       "  Company \\n(Maker-if known) Specific Bean Origin\\nor Bar Name   REF  \\\n",
       "0                   A. Morin                       Agua Grande  1876   \n",
       "1                   A. Morin                             Kpime  1676   \n",
       "2                   A. Morin                            Atsane  1676   \n",
       "3                   A. Morin                             Akata  1680   \n",
       "4                   A. Morin                            Quilla  1704   \n",
       "\n",
       "   Review\\nDate  Cocoa\\nPercent Company\\nLocation  Rating Bean\\nType  \\\n",
       "0          2016            63.0            France  0.6875              \n",
       "1          2015            70.0            France  0.4375              \n",
       "2          2015            70.0            France  0.5000              \n",
       "3          2015            70.0            France  0.6250              \n",
       "4          2015            70.0            France  0.6250              \n",
       "\n",
       "  Broad Bean\\nOrigin  \n",
       "0           Sao Tome  \n",
       "1               Togo  \n",
       "2               Togo  \n",
       "3               Togo  \n",
       "4               Peru  "
      ]
     },
     "execution_count": 49,
     "metadata": {},
     "output_type": "execute_result"
    }
   ],
   "source": [
    "cacao_df1.head()"
   ]
  },
  {
   "cell_type": "markdown",
   "id": "322838c6-24df-40de-9563-fc789a72032a",
   "metadata": {},
   "source": [
    "#### How many company locations in the dataset?"
   ]
  },
  {
   "cell_type": "code",
   "execution_count": 51,
   "id": "a7f8025d-b857-4746-a7d7-3eb23f8c3c78",
   "metadata": {},
   "outputs": [
    {
     "name": "stdout",
     "output_type": "stream",
     "text": [
      "There are 60 company locations in the dataset\n"
     ]
    }
   ],
   "source": [
    "print(f\"There are {len(cacao_df1['Company\\nLocation'].unique())} company locations in the dataset\")"
   ]
  },
  {
   "cell_type": "markdown",
   "id": "e1626ec2-3b84-4224-a2ed-394aa67b868c",
   "metadata": {},
   "source": [
    "#### how many companies in the dataset?"
   ]
  },
  {
   "cell_type": "code",
   "execution_count": 53,
   "id": "d138ff43-997f-4c12-80a9-26ab3fe04cca",
   "metadata": {},
   "outputs": [
    {
     "name": "stdout",
     "output_type": "stream",
     "text": [
      "There are 416 companies in the dataset\n"
     ]
    }
   ],
   "source": [
    "print(f\"There are {len(cacao_df1['Company\\xa0\\n(Maker-if known)'].unique())} companies in the dataset\")"
   ]
  },
  {
   "cell_type": "markdown",
   "id": "66f76861-1138-454c-9b49-39e42b479f0a",
   "metadata": {},
   "source": [
    "#### Encoding company name and company location"
   ]
  },
  {
   "cell_type": "code",
   "execution_count": 55,
   "id": "5c974a43-2a20-458e-b1fb-53554bc7dd8e",
   "metadata": {},
   "outputs": [],
   "source": [
    "#because of high quantities of company's locations and company's names, we chose an Ordinal Encoder\n",
    "\n",
    "from sklearn.preprocessing import OrdinalEncoder\n",
    "encoder = OrdinalEncoder()\n",
    "X = encoder.fit_transform(cacao_df1[['Company\\xa0\\n(Maker-if known)', 'Company\\nLocation']])"
   ]
  },
  {
   "cell_type": "markdown",
   "id": "01bd6637-32b2-4a64-b538-0d9d2d3d049c",
   "metadata": {},
   "source": [
    "###### X will be the input features of the model to be trained"
   ]
  },
  {
   "cell_type": "code",
   "execution_count": null,
   "id": "e1e3ade2-1bc0-4850-96d6-abb150dc5aae",
   "metadata": {},
   "outputs": [],
   "source": []
  }
 ],
 "metadata": {
  "kernelspec": {
   "display_name": "Python 3 (ipykernel)",
   "language": "python",
   "name": "python3"
  },
  "language_info": {
   "codemirror_mode": {
    "name": "ipython",
    "version": 3
   },
   "file_extension": ".py",
   "mimetype": "text/x-python",
   "name": "python",
   "nbconvert_exporter": "python",
   "pygments_lexer": "ipython3",
   "version": "3.12.7"
  }
 },
 "nbformat": 4,
 "nbformat_minor": 5
}
