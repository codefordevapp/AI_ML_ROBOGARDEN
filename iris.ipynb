{
 "cells": [
  {
   "cell_type": "markdown",
   "metadata": {},
   "source": [
    "<h1 align = 'center'>IRIS FLOWERS DATASET PROJECT</h1>"
   ]
  },
  {
   "cell_type": "markdown",
   "metadata": {},
   "source": [
    "<h1>Description</h1>\n",
    "<p>In this project, we will use Python to import and classify the Iris flowers dataset using different algorithms for classification within the sci-kit learn library. You will display the outputs of each algorithm and compare the accuracy of the models we will create. The project aims to test and strengthen our understanding of the following previously discussed topics:</p>\n",
    "<ul>\n",
    "    <li>Logistic Regression Model.</li>\n",
    "    <li>KNN Classification.</li>\n",
    "    <li>Support Vector Machines.</li>\n",
    "    <li>Decision Trees Classification.</li>\n",
    "    <li>Random Forest Classification.</li>\n",
    "    <li>Naive Bayes Classification.</li>\n",
    "</ul>\n",
    "<p>The Dataset used in this project is the Iris plants classification data set that contains three classes with 50 instances each.</p>"
   ]
  },
  {
   "cell_type": "markdown",
   "metadata": {},
   "source": [
    "<h1>Import Librairies</h1>"
   ]
  },
  {
   "cell_type": "code",
   "execution_count": 141,
   "metadata": {},
   "outputs": [],
   "source": [
    "#data manipulation\n",
    "import pandas as pd\n",
    "import numpy as np\n",
    "\n",
    "#data visualization\n",
    "import matplotlib.pyplot as plt\n",
    "import seaborn as sb\n",
    "\n",
    "#data preprocessing\n",
    "from sklearn.preprocessing import OneHotEncoder\n",
    "from sklearn.preprocessing import LabelEncoder\n",
    "from sklearn.preprocessing import OrdinalEncoder\n",
    "from sklearn.preprocessing import StandardScaler\n",
    "\n",
    "#data selection\n",
    "from sklearn.model_selection import train_test_split, GridSearchCV\n",
    "\n",
    "#data modeling\n",
    "from sklearn.linear_model import LogisticRegression\n",
    "from sklearn.svm import SVC\n",
    "from sklearn.tree import DecisionTreeClassifier\n",
    "from sklearn.ensemble import RandomForestClassifier \n",
    "from sklearn.neighbors import KNeighborsClassifier \n",
    "from sklearn.naive_bayes import MultinomialNB, GaussianNB\n",
    "\n",
    "#data performance\n",
    "from sklearn.metrics import confusion_matrix, accuracy_score"
   ]
  },
  {
   "cell_type": "markdown",
   "metadata": {},
   "source": [
    "<h1>Data import</h1>"
   ]
  },
  {
   "cell_type": "markdown",
   "metadata": {},
   "source": [
    "<h2>Reading iris data</h2>"
   ]
  },
  {
   "cell_type": "code",
   "execution_count": 142,
   "metadata": {},
   "outputs": [
    {
     "data": {
      "text/html": [
       "<div>\n",
       "<style scoped>\n",
       "    .dataframe tbody tr th:only-of-type {\n",
       "        vertical-align: middle;\n",
       "    }\n",
       "\n",
       "    .dataframe tbody tr th {\n",
       "        vertical-align: top;\n",
       "    }\n",
       "\n",
       "    .dataframe thead th {\n",
       "        text-align: right;\n",
       "    }\n",
       "</style>\n",
       "<table border=\"1\" class=\"dataframe\">\n",
       "  <thead>\n",
       "    <tr style=\"text-align: right;\">\n",
       "      <th></th>\n",
       "      <th>sepal-length</th>\n",
       "      <th>sepal-width</th>\n",
       "      <th>petal-length</th>\n",
       "      <th>petal-width</th>\n",
       "      <th>class</th>\n",
       "    </tr>\n",
       "  </thead>\n",
       "  <tbody>\n",
       "    <tr>\n",
       "      <th>0</th>\n",
       "      <td>4.9</td>\n",
       "      <td>3.0</td>\n",
       "      <td>1.4</td>\n",
       "      <td>0.2</td>\n",
       "      <td>Iris-setosa</td>\n",
       "    </tr>\n",
       "    <tr>\n",
       "      <th>1</th>\n",
       "      <td>4.7</td>\n",
       "      <td>3.2</td>\n",
       "      <td>1.3</td>\n",
       "      <td>0.2</td>\n",
       "      <td>Iris-setosa</td>\n",
       "    </tr>\n",
       "    <tr>\n",
       "      <th>2</th>\n",
       "      <td>4.6</td>\n",
       "      <td>3.1</td>\n",
       "      <td>1.5</td>\n",
       "      <td>0.2</td>\n",
       "      <td>Iris-setosa</td>\n",
       "    </tr>\n",
       "    <tr>\n",
       "      <th>3</th>\n",
       "      <td>5.0</td>\n",
       "      <td>3.6</td>\n",
       "      <td>1.4</td>\n",
       "      <td>0.2</td>\n",
       "      <td>Iris-setosa</td>\n",
       "    </tr>\n",
       "    <tr>\n",
       "      <th>4</th>\n",
       "      <td>5.4</td>\n",
       "      <td>3.9</td>\n",
       "      <td>1.7</td>\n",
       "      <td>0.4</td>\n",
       "      <td>Iris-setosa</td>\n",
       "    </tr>\n",
       "  </tbody>\n",
       "</table>\n",
       "</div>"
      ],
      "text/plain": [
       "   sepal-length  sepal-width  petal-length  petal-width        class\n",
       "0           4.9          3.0           1.4          0.2  Iris-setosa\n",
       "1           4.7          3.2           1.3          0.2  Iris-setosa\n",
       "2           4.6          3.1           1.5          0.2  Iris-setosa\n",
       "3           5.0          3.6           1.4          0.2  Iris-setosa\n",
       "4           5.4          3.9           1.7          0.4  Iris-setosa"
      ]
     },
     "execution_count": 142,
     "metadata": {},
     "output_type": "execute_result"
    }
   ],
   "source": [
    "#iris data url\n",
    "iris_url = 'https://raw.githubusercontent.com/jbrownlee/Datasets/master/iris.csv'\n",
    "\n",
    "#read iris flowers data\n",
    "iris = pd.read_csv(iris_url)\n",
    "\n",
    "#add column names to the data\n",
    "column_names = ['sepal-length', 'sepal-width', 'petal-length', 'petal-width', 'class']\n",
    "iris.columns = column_names\n",
    "\n",
    "#iris data overview\n",
    "iris.head()"
   ]
  },
  {
   "cell_type": "markdown",
   "metadata": {},
   "source": [
    "<h2>Check for missing values</h2"
   ]
  },
  {
   "cell_type": "code",
   "execution_count": 143,
   "metadata": {},
   "outputs": [
    {
     "data": {
      "text/plain": [
       "sepal-length    0\n",
       "sepal-width     0\n",
       "petal-length    0\n",
       "petal-width     0\n",
       "class           0\n",
       "dtype: int64"
      ]
     },
     "execution_count": 143,
     "metadata": {},
     "output_type": "execute_result"
    }
   ],
   "source": [
    "iris.isna().sum()"
   ]
  },
  {
   "cell_type": "markdown",
   "metadata": {},
   "source": [
    "<h1>Split Data</h1>\n",
    "<hp>Create a validation dataset by splitting the loaded data into the following:</p>\n",
    "<ul>\n",
    "<li>80% training data for preparing the models (X_train and Y_train)</li>\n",
    "<li>20% as validation held back data from the models (X_test and Y_test)</li>\n",
    "</ul>\n",
    "<p>The number of x_columns for this problem is four as we have four different features in our data. Set the random_state to 7.</p>"
   ]
  },
  {
   "cell_type": "code",
   "execution_count": 144,
   "metadata": {},
   "outputs": [],
   "source": [
    "#separate the target\n",
    "y = iris['class']\n",
    "\n",
    "#collect all features\n",
    "X = iris.drop(['class'], axis = 1)\n",
    "\n",
    "#Spliting data using train test split module\n",
    "X_train, X_test, y_train, y_test = train_test_split(X, y, test_size=0.20, random_state=7)"
   ]
  },
  {
   "cell_type": "markdown",
   "metadata": {},
   "source": [
    "<h1>Build and Train Models</h1>\n",
    "<p>Import needed libraries and create SIX different models as follows:</p>\n",
    "<ul>\n",
    "    <li>Multi_class Logistic Regression model\n",
    "        <ul>\n",
    "            <li>LogisticRegression(solver='liblinear', multi_class='ovr')</li>\n",
    "        </ul>\n",
    "    </li>    \n",
    "    <li>K Neighbors Classifier model.</li>\n",
    "    <li>Decision Tree Classifier.</li>\n",
    "    <li>Random Forest Classifier.</li>\n",
    "    <li>Support Vector Machines.</li>\n",
    "    <li>Gaussian Naive Bayes Classifier.</li>\n",
    "</ul>\n",
    "<p>Place the models in a list. Iterate over the array of created models and train them using the training data split in previous step.</p>"
   ]
  },
  {
   "cell_type": "markdown",
   "metadata": {},
   "source": [
    "<h2>Inserting each Model in a List</h2>"
   ]
  },
  {
   "cell_type": "code",
   "execution_count": 145,
   "metadata": {},
   "outputs": [],
   "source": [
    "#initialize the list of models\n",
    "models = []\n",
    "\n",
    "#logistic regression model\n",
    "log_reg = LogisticRegression(solver='lbfgs', max_iter=200, multi_class='ovr')\n",
    "models.append(('Logistic Regression', log_reg))\n",
    "\n",
    "#k neighbors classifier model\n",
    "knn = KNeighborsClassifier(n_neighbors=3, weights='uniform', algorithm='auto')\n",
    "models.append(('k-Neighbors', knn))\n",
    "\n",
    "#decision tree classifier model\n",
    "dec_tree = DecisionTreeClassifier(criterion='gini', max_depth=3, min_samples_split=2)\n",
    "models.append(('Decision Tree', dec_tree))\n",
    "\n",
    "#random forest classifier model\n",
    "rand_forest =RandomForestClassifier(n_estimators=100, criterion='gini', max_depth=5)\n",
    "models.append(('Random Forest', rand_forest))\n",
    "\n",
    "#support vector machines model\n",
    "supp_vect = SVC(C=1.0, kernel='rbf', gamma='scale')\n",
    "models.append(('Support Vector Machines', supp_vect))\n",
    "\n",
    "#gaussian naive bayes classifer model\n",
    "gauss = GaussianNB(var_smoothing=1e-9)\n",
    "models.append(('Gaussian Naive Bayes', gauss))"
   ]
  },
  {
   "cell_type": "markdown",
   "metadata": {},
   "source": [
    "<h2>Train each model and compare confusion matrix</h2>"
   ]
  },
  {
   "cell_type": "code",
   "execution_count": 146,
   "metadata": {},
   "outputs": [
    {
     "name": "stderr",
     "output_type": "stream",
     "text": [
      "e:\\AI_ML_ROBOGARDEN\\LABORATORY\\.venv\\Lib\\site-packages\\sklearn\\linear_model\\_logistic.py:1256: FutureWarning: 'multi_class' was deprecated in version 1.5 and will be removed in 1.7. Use OneVsRestClassifier(LogisticRegression(..)) instead. Leave it to its default value to avoid this warning.\n",
      "  warnings.warn(\n"
     ]
    },
    {
     "name": "stdout",
     "output_type": "stream",
     "text": [
      "\n",
      "Logistic Regression:\n",
      "  accuracy = 90.00\n",
      "               predicted_sentosa  predicted_versicolor  predicted_virginica\n",
      "is_sentosa                     7                     0                    0\n",
      "is_versicolor                  0                     9                    3\n",
      "is_virginica                   0                     0                   11\n",
      "\n",
      "k-Neighbors:\n",
      "  accuracy = 96.67\n",
      "               predicted_sentosa  predicted_versicolor  predicted_virginica\n",
      "is_sentosa                     7                     0                    0\n",
      "is_versicolor                  0                    11                    1\n",
      "is_virginica                   0                     0                   11\n",
      "\n",
      "Decision Tree:\n",
      "  accuracy = 96.67\n",
      "               predicted_sentosa  predicted_versicolor  predicted_virginica\n",
      "is_sentosa                     7                     0                    0\n",
      "is_versicolor                  0                    11                    1\n",
      "is_virginica                   0                     0                   11\n",
      "\n",
      "Random Forest:\n",
      "  accuracy = 96.67\n",
      "               predicted_sentosa  predicted_versicolor  predicted_virginica\n",
      "is_sentosa                     7                     0                    0\n",
      "is_versicolor                  0                    11                    1\n",
      "is_virginica                   0                     0                   11\n",
      "\n",
      "Support Vector Machines:\n",
      "  accuracy = 93.33\n",
      "               predicted_sentosa  predicted_versicolor  predicted_virginica\n",
      "is_sentosa                     7                     0                    0\n",
      "is_versicolor                  0                    11                    1\n",
      "is_virginica                   0                     1                   10\n",
      "\n",
      "Gaussian Naive Bayes:\n",
      "  accuracy = 96.67\n",
      "               predicted_sentosa  predicted_versicolor  predicted_virginica\n",
      "is_sentosa                     7                     0                    0\n",
      "is_versicolor                  0                    11                    1\n",
      "is_virginica                   0                     0                   11\n"
     ]
    }
   ],
   "source": [
    "#initialize accuracy score\n",
    "accuracy = []\n",
    "names = []\n",
    "\n",
    "#Loop over models\n",
    "for name, model in models:\n",
    "\n",
    "    #fit the model\n",
    "    model.fit(X_train, y_train)\n",
    "\n",
    "    #predict output\n",
    "    y_pred = model.predict(X_test)\n",
    "\n",
    "    #evaluate the model performance using confusion matrix\n",
    "    conf = np.array(confusion_matrix(y_test, y_pred))\n",
    "\n",
    "    #model performance using accuracy\n",
    "    accuracy.append((np.trace(conf)/np.sum(conf))*100)\n",
    "    \n",
    "\n",
    "    #print confusion matrix\n",
    "    print(f'\\n{name}:')\n",
    "    print(f'  accuracy = {accuracy[-1]:.2f}')\n",
    "    conf_frame = pd.DataFrame(conf, index = ['is_sentosa', 'is_versicolor', 'is_virginica'], columns = ['predicted_sentosa', 'predicted_versicolor', 'predicted_virginica'])\n",
    "    print(conf_frame)\n",
    "\n",
    "    \n",
    "\n",
    "    #collect model name in list\n",
    "    names.append(name)"
   ]
  },
  {
   "cell_type": "markdown",
   "metadata": {},
   "source": [
    "<h1>Compare Accuracy and Plot</h1> "
   ]
  },
  {
   "cell_type": "code",
   "execution_count": 147,
   "metadata": {},
   "outputs": [
    {
     "data": {
      "image/png": "[encoded data removed]",
      "text/plain": [
       "<Figure size 1000x600 with 1 Axes>"
      ]
     },
     "metadata": {},
     "output_type": "display_data"
    }
   ],
   "source": [
    "# Create the bar plot\n",
    "plt.figure(figsize=(10, 6))\n",
    "bars = plt.bar(names, accuracy, alpha = 0.7)\n",
    "\n",
    "# Add title and labels\n",
    "plt.title('Algorithm Comparison',  fontsize=20)\n",
    "plt.xticks(rotation=45)\n",
    "plt.xlabel('Algorims',  fontsize=15)\n",
    "plt.ylabel('Accuracy', fontsize=15)\n",
    "\n",
    "# Add the values on top of each bar\n",
    "for bar in bars:\n",
    "    yval = (bar.get_height())  # Get the height of the bar (the value)\n",
    "    yval = yval.round(2)\n",
    "    plt.text(bar.get_x() + bar.get_width() / 2, yval,  # x, y position\n",
    "             f'{yval}', ha='center', va='bottom', fontsize=10)  # Display the value\n",
    "    \n",
    "# Display the plot\n",
    "plt.show()"
   ]
  },
  {
   "cell_type": "markdown",
   "metadata": {},
   "source": [
    "<p>For Iris flowers classification, We can conclude that:</p>\n",
    "<ul>\n",
    "    <li>K-Neighbors, Decision Tree and Gaussion Naive Bayes models give the highest performance of 96.67%.</li>\n",
    "    <li>It is possible to improve each model performance by fine tuning their parameters, normalizing the data, selecting the right features for prediction.</li>\n",
    "</ul>"
   ]
  }
 ],
 "metadata": {
  "kernelspec": {
   "display_name": ".venv",
   "language": "python",
   "name": "python3"
  },
  "language_info": {
   "codemirror_mode": {
    "name": "ipython",
    "version": 3
   },
   "file_extension": ".py",
   "mimetype": "text/x-python",
   "name": "python",
   "nbconvert_exporter": "python",
   "pygments_lexer": "ipython3",
   "version": "3.13.1"
  }
 },
 "nbformat": 4,
 "nbformat_minor": 2
}
