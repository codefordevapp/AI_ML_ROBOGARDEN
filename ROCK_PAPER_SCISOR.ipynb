{
 "cells": [
  {
   "cell_type": "markdown",
   "id": "b91d63e8-8e4b-47c3-b66a-487f260c6afd",
   "metadata": {},
   "source": [
    "# ROCK, PAPER, SCISOR GAME"
   ]
  },
  {
   "cell_type": "code",
   "execution_count": 2,
   "id": "af16ec8e-905b-4b89-ba49-2f88b6ce63d4",
   "metadata": {},
   "outputs": [
    {
     "name": "stdout",
     "output_type": "stream",
     "text": [
      "You : ROCK -  Computer : SCISOR\n",
      "You win!\n",
      "You : PAPER -  Computer : ROCK\n",
      "You win!\n",
      "Game over\n",
      "You : PAPER -  Computer : SCISOR\n",
      "You lose!\n",
      "Game over\n",
      "Good Bye\n"
     ]
    }
   ],
   "source": [
    "import random\n",
    "\n",
    "rock:int = 1\n",
    "paper:int = 2\n",
    "scisor:int = 3\n",
    "quit:int  = 4\n",
    "\n",
    "def choice() ->int:\n",
    "    user_choice = int(input('''\n",
    "    Choose Rock, Paper or Scisor:\n",
    "        Enter : 1 = Rock | 2 = Paper | 3 = Scisor | 4 = Quit\n",
    "        my choice: \n",
    "    '''))\n",
    "    return user_choice\n",
    "\n",
    "def print_computer(computer_choice)->None:\n",
    "    if computer_choice == 1:\n",
    "        print(\"Computer : ROCK\")\n",
    "    if computer_choice == 2:\n",
    "        print(\"Computer : PAPER\")\n",
    "    if computer_choice == 3:\n",
    "        print(\"Computer : SCISOR\")\n",
    "\n",
    "while True:\n",
    "\n",
    "    #computer choose 1: rock, 2: paper or 3: scisor\n",
    "    computer_choice = random.randint(1, 3)\n",
    "\n",
    "    #user must choose 1: rock, 2: paper, 3: scisor or 4: quit\n",
    "    user_choice = -1\n",
    "    while user_choice not in [rock, paper, scisor, quit]:\n",
    "        user_choice = choice()\n",
    "        \n",
    "    #if the choice of computer is same as user's, they return to play\n",
    "    if user_choice == computer_choice:\n",
    "        print(\"Game over\")\n",
    "    \n",
    "    #rock win over scicor\n",
    "    elif user_choice == rock:\n",
    "        print(\"You : ROCK - \", end =\" \")\n",
    "        if computer_choice == paper:\n",
    "            print_computer(computer_choice)\n",
    "            print(\"You lose!\")\n",
    "        else:\n",
    "            print_computer(computer_choice)\n",
    "            print(\"You win!\")\n",
    "\n",
    "    #paper win aginst rock\n",
    "    elif user_choice == paper:\n",
    "        print(\"You : PAPER - \", end = \" \")\n",
    "        if computer_choice == scisor:\n",
    "            print_computer(computer_choice)\n",
    "            print(\"You lose!\")\n",
    "        else:\n",
    "            print_computer(computer_choice)\n",
    "            print(\"You win!\")\n",
    "\n",
    "    #scisor win aginst paper\n",
    "    elif user_choice == scisor:\n",
    "        print(\"You : SCISOR\")\n",
    "        if computer_choice == rock:\n",
    "            print_computer(computer_choice)\n",
    "            print(\"You lose!\")\n",
    "        else:\n",
    "            print_computer(computer_choice)\n",
    "            print(\"You win!\")\n",
    "                            \n",
    "    else:\n",
    "        #ask user if he or she realy prefer to quit the game\n",
    "        q = input('Are sure to Quit?: chose \"y\" to confirm or \"n\" to play agin: ')\n",
    "\n",
    "        #confirmation\n",
    "        if (q == \"y\" or q == \"Y\"):\n",
    "            print(\"Good Bye\")\n",
    "            break\n",
    "        \n",
    "    \n",
    "    "
   ]
  },
  {
   "cell_type": "code",
   "execution_count": null,
   "id": "0bcf105b-64c4-477d-9d15-eb106f8afa22",
   "metadata": {},
   "outputs": [],
   "source": []
  }
 ],
 "metadata": {
  "kernelspec": {
   "display_name": ".venv",
   "language": "python",
   "name": "python3"
  },
  "language_info": {
   "codemirror_mode": {
    "name": "ipython",
    "version": 3
   },
   "file_extension": ".py",
   "mimetype": "text/x-python",
   "name": "python",
   "nbconvert_exporter": "python",
   "pygments_lexer": "ipython3",
   "version": "3.12.7"
  }
 },
 "nbformat": 4,
 "nbformat_minor": 5
}
